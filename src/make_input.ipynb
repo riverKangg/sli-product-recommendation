{
 "cells": [
  {
   "cell_type": "code",
   "execution_count": 2,
   "id": "348d79be-fd89-4ea5-9ed9-698587ca5577",
   "metadata": {
    "tags": []
   },
   "outputs": [],
   "source": [
    "import os\n",
    "os.chdir(\"/root/sli-product-recommendation\")\n",
    "\n",
    "import json\n",
    "import random\n",
    "import warnings\n",
    "import numpy as np\n",
    "import pandas as pd\n",
    "from dateutil.relativedelta import relativedelta\n",
    "from sklearn.preprocessing import LabelEncoder, MinMaxScaler, OneHotEncoder\n",
    "\n",
    "from utils import *\n",
    "\n",
    "warnings.filterwarnings('ignore')\n",
    "\n",
    "seed = 42 \n",
    "random.seed(seed)"
   ]
  },
  {
   "cell_type": "code",
   "execution_count": 3,
   "id": "91e79e12-81d6-49a0-8a5a-60978e822b4d",
   "metadata": {
    "tags": []
   },
   "outputs": [
    {
     "name": "stdout",
     "output_type": "stream",
     "text": [
      "Reference date: 202305 \n",
      "  �� is dev set: True\n"
     ]
    }
   ],
   "source": [
    "yyyymm = '202305'\n",
    "is_development = True if yyyymm=='202305' else False\n",
    "target_label = 'target'\n",
    "product_category = '��ǰ�ߺз�2'\n",
    "print(f'Reference date: {yyyymm} \\n  �� is dev set: {is_development}')"
   ]
  },
  {
   "cell_type": "code",
   "execution_count": 4,
   "id": "3aa15bfa-669f-4f78-829d-736d74aa47bf",
   "metadata": {},
   "outputs": [],
   "source": [
    "# save\n",
    "# data_condition = ''\n",
    "data_condition = 'delvariable_'\n",
    "data_name = f'data_{data_condition}{yyyymm}'"
   ]
  },
  {
   "cell_type": "code",
   "execution_count": 5,
   "id": "14ec50a4-f416-4d3c-879a-84371b727151",
   "metadata": {
    "tags": []
   },
   "outputs": [
    {
     "name": "stdout",
     "output_type": "stream",
     "text": [
      "--- Contract Split ---\n",
      "Number of total contracts: 332,970\n",
      "Number of previous contracts: 268,327\n",
      "Number of target contract: 64,643 �� 54,984\n",
      " Check the duration\n",
      " - previous: 1979-03-31 00:00:00 ~ 2023-05-31 00:00:00\n",
      " - target: 2023-06-01 00:00:00 ~ 2023-10-31 00:00:00\n",
      "\n",
      "--- Find common IDs ---\n",
      "Customer set: 45,417 �� 39,928\n",
      "Contract Previous set: 268,327 �� 251,937\n",
      "Contract Target set: 54,984 �� 53,899\n"
     ]
    }
   ],
   "source": [
    "def load_dataset(yyyymm):\n",
    "    customer = pd.read_csv(f'data/CUST_BASE_{yyyymm}.csv', encoding='euc-kr', converters={'ID':str})\n",
    "    if len(customer) != len(set(customer.ID)):\n",
    "        raise ValueError('Duplicate values in ID')\n",
    "    contract = pd.read_csv(f'data/PROD_BASE_{yyyymm}.csv', encoding='euc-kr', converters={'ID':str}).dropna()\n",
    "    customer = customer.set_index('ID')\n",
    "    contract['�������'] = pd.to_datetime(contract['�������'], format='%Y%m%d')\n",
    "    return customer, contract\n",
    "\n",
    "customer_raw, contract_raw = load_dataset(yyyymm)\n",
    "\n",
    "def save_product_label(contract_previous, contract_target):\n",
    "    contract_target_names = list(contract_target[product_category].value_counts().keys())\n",
    "    contract_target_codes = list(range(1, len(contract_target_names)+1))\n",
    "    contract_target_label = dict(zip(contract_target_names, contract_target_codes))\n",
    "    \n",
    "    contract_previous_names = pd.Series(contract_previous[product_category].value_counts().keys())\n",
    "    added_contract_previous_names = contract_previous_names[~pd.Series(contract_previous_names).isin(contract_target_names)]\n",
    "    start_added = max(contract_target_codes)\n",
    "    added_contract_previous_codes = list(range(start_added+1, start_added+len(added_contract_previous_names)+1))\n",
    "    added_contract_previous_label = dict(zip(added_contract_previous_names, added_contract_previous_codes))\n",
    "    \n",
    "    contract_previous_label = {**contract_target_label, **added_contract_previous_label}\n",
    "    \n",
    "    label_dictionary = {'contract_previous_label':contract_previous_label,\n",
    "                        'contract_target_label':contract_target_label}\n",
    "    \n",
    "    with open('utils/target_label_dictionary.json', 'w') as f:\n",
    "        json.dump(label_dictionary, f)\n",
    "\n",
    "def contract_label_encoding(contract_previous, contract_target):\n",
    "    if is_development:\n",
    "        save_product_label(contract_previous, contract_target)\n",
    "    label_dictionary = read_product_label()\n",
    "    contract_previous_label = label_dictionary['contract_previous_label']\n",
    "    contract_target_label = label_dictionary['contract_target_label']\n",
    "\n",
    "    contract_previous['prdt_cat'] = contract_previous[product_category].replace(contract_previous_label)\n",
    "    contract_target['prdt_cat'] = contract_target[product_category].replace(contract_target_label)\n",
    "    return contract_previous, contract_target, contract_previous_label, contract_target_label\n",
    "\n",
    "def contract_split(yyyymm, contract):  \n",
    "    split_date = pd.to_datetime(yyyymm, format='%Y%m') + relativedelta(months=1)\n",
    "    contract_previous = contract[pd.to_datetime(contract['�������'], format='%Y%m%d') < split_date]\n",
    "    contract_target_raw = contract[pd.to_datetime(contract['�������'], format='%Y%m%d') >= split_date]\n",
    "    \n",
    "    contract_target = contract_target_raw[:]\n",
    "    contract_target = contract_target[~contract_target.��ǰ�з�.isin(['34.�Ǽ�', '80.�̴Ϻ���'])]\n",
    "    contract_target = contract_target[~contract_target.��ǰ�ߺз�2.isin(['34.�Ǽ�', '36.��ü', '��Ÿ'])]\n",
    "    if 'smallcat' in data_name:\n",
    "        contract_target = contract_target[~contract_target.��ǰ�ߺз�2.isin(['42.���׿���','12.��������','52.��������','20.CI', '35.����', '33.����'])]\n",
    "    if 'delvariable' in data_name:\n",
    "        contract_target = contract_target[~contract_target.��ǰ�ߺз�2.isin(['42.���׿���','12.��������','52.��������'])]\n",
    "    if 'delmaxcat' in data_name:\n",
    "        contract_target = contract_target[~contract_target.��ǰ�ߺз�2.isin(['38.�ǰ�'])]\n",
    "    contract_target = contract_target.drop_duplicates()\n",
    "    \n",
    "    contract_previous, contract_target, contract_previous_label, contract_target_label = contract_label_encoding(contract_previous, contract_target)\n",
    "    \n",
    "    print('--- Contract Split ---')\n",
    "    print(f'Number of total contracts: {contract.shape[0]:,}')\n",
    "    print(f'Number of previous contracts: {contract_previous.shape[0]:,}')\n",
    "    print(f'Number of target contract: {contract_target_raw.shape[0]:,} �� {contract_target.shape[0]:,}')\n",
    "    print(' Check the duration')\n",
    "    print(f' - previous: {contract_previous.�������.min()} ~ {contract_previous.�������.max()}')\n",
    "    print(f' - target: {contract_target.�������.min()} ~ {contract_target.�������.max()}')\n",
    "    print()\n",
    "    \n",
    "    if max(contract_previous.�������) >= min(contract_target.�������):\n",
    "        raise ValueError('Check')\n",
    "    target_max_date = max(contract_target.�������)\n",
    "    previous_max_date = max(contract_previous.�������)\n",
    "    date_diff = (target_max_date - previous_max_date) / pd.Timedelta(days=1) / 30\n",
    "    \n",
    "    if date_diff == 6:\n",
    "        raise ValueError('Check')\n",
    "        \n",
    "    return contract_previous, contract_target, contract_previous_label, contract_target_label   \n",
    "    \n",
    "contract_previous, contract_target, contract_previous_label, contract_target_label = contract_split(yyyymm, contract_raw)\n",
    "\n",
    "def revise_ids(customer, contract_previous, contract_target):\n",
    "    target_true_ids = set(contract_target.ID)\n",
    "    previous_true_ids = set(contract_previous.ID)\n",
    "    customer_ids = set(customer.index)\n",
    "    common_ids = list(target_true_ids.intersection(customer_ids).intersection(previous_true_ids))\n",
    "    \n",
    "    customer_new = customer[customer.index.isin(common_ids)]\n",
    "    contract_previous_new = contract_previous[contract_previous.ID.isin(common_ids)]\n",
    "    contract_target_new = contract_target[contract_target.ID.isin(common_ids)]\n",
    "    \n",
    "    print('--- Find common IDs ---')\n",
    "    print(f'Customer set: {len(customer):,} �� {len(customer_new):,}')\n",
    "    print(f'Contract Previous set: {len(contract_previous):,} �� {len(contract_previous_new):,}')\n",
    "    print(f'Contract Target set: {len(contract_target):,} �� {len(contract_target_new):,}')\n",
    "   \n",
    "    return customer_new, contract_previous_new, contract_target_new\n",
    "\n",
    "customer, contract_previous, contract_target = revise_ids(customer_raw, contract_previous, contract_target)"
   ]
  },
  {
   "cell_type": "markdown",
   "id": "a46ff600-2bd9-4d4e-9ed7-cde05595cc6a",
   "metadata": {},
   "source": [
    "### �� ��Ÿ����"
   ]
  },
  {
   "cell_type": "code",
   "execution_count": 6,
   "id": "99838a04-fc84-4932-aa15-c4a1013dd3d3",
   "metadata": {
    "tags": []
   },
   "outputs": [],
   "source": [
    "# for field \n",
    "f_num = ['����ڿ���','�����ҵ�','�ֱٰ������']\n",
    "f_cat = ['����ڼ���', '�ܱ��ο���', 'BP�����ڵ�', '������Ʈ����', '����������', '���ɰ�����', 'VIP���', '�췮��������', '������з�', '������_�����������', \n",
    "         '���ڼ���', '����1', '����2'] # , '����3', '����4', '����5', '����6'\n",
    "f_fire_contract = ['F00003','F00004','F00005','F00006','F00007','F00008','F00009','F00010','F00011','F00012']\n",
    "\n",
    "f_stock = list(filter(lambda x: x[0]=='S', customer.columns))\n",
    "f_fire = list(filter(lambda x: x[0]=='F', customer.columns))\n",
    "f_card = list(filter(lambda x: x[0]=='C', customer.columns))\n",
    "\n",
    "customer['CD0001'] = customer['CD0001'].fillna('-1')\n",
    "customer[f_stock+f_fire+f_card] = customer[f_stock+f_fire+f_card].replace(-99999999, 0).fillna(0)"
   ]
  },
  {
   "cell_type": "code",
   "execution_count": 44,
   "id": "fc99f714-ee3d-48b1-b366-9c3f3bb901e5",
   "metadata": {
    "tags": []
   },
   "outputs": [
    {
     "name": "stdout",
     "output_type": "stream",
     "text": [
      "['����ڿ���', '�����ҵ�', '�ֱٰ������', 'S00006', 'S00007', 'S00008', 'S00009', 'S00010', 'S00011', 'S00012', 'S00013', 'S00014', 'S00015', 'S00016', 'S00017', 'S00018', 'S00019', 'S00020', 'S00021', 'S00022', 'S00023', 'S00024', 'S00025', 'S00026', 'S00027', 'S00028', 'S00029', 'S00030', 'S00031', 'S00032', 'S00033', 'S00034', 'S00035', 'S00036', 'S00037', 'S00038', 'S00039', 'S00040', 'S00041', 'S00042', 'S00043', 'S00044', 'S00045', 'S00046', 'S00047', 'S00048', 'S00049', 'S00050', 'S00051', 'S00052', 'S00053', 'S00054', 'S00055', 'F00003', 'F00004', 'F00005', 'F00006', 'F00007', 'F00008', 'F00009', 'F00010', 'F00011', 'F00012', 'F00013', 'F00014', 'F00015', 'F00016', 'F00017', 'F00018', 'F00019', 'F00020', 'F00021', 'F00022', 'F00023', 'F00024', 'F00025', 'F00026', 'F00027', 'F00028', 'F00029', 'F00030', 'F00031', 'F00032', 'F00033', 'F00034', 'F00035', 'F00036', 'F00037', 'F00038', 'F00039', 'F00040', 'F00041', 'F00042', 'F00043', 'F00044', 'F00045', 'F00046', 'F00047', 'F00048', 'F00049', 'F00050', 'F00051', 'F00052', 'F00053', 'F00054', 'F00055', 'F00056', 'F00057', 'F00058', 'F00059', 'F00060', 'F00061', 'F00062', 'F00063', 'F00064', 'F00065', 'F00066', 'F00067', 'F00068', 'F00069', 'F00070', 'F00071', 'F00072', 'F00073', 'F00074', 'F00075', 'F00076', 'F00077', 'F00078', 'F00079', 'F00080', 'F00081', 'F00082', 'F00083', 'F00084', 'F00085', 'F00086', 'F00087', 'F00088', 'F00089', 'F00090', 'F00091', 'F00092', 'F00093', 'F00094', 'F00095', 'F00096', 'F00097', 'F00098', 'F00099', 'F00100', 'F00101', 'CARD_HV_M0', 'CARD_HV_M1', 'CARD_HV_M2', 'CRAD_HV_CNT', 'CD0002', 'CD0003', 'CD0004', 'CD0041', 'CD0042', 'CD0043', 'CD0005_SUM', 'CD0006_SUM', 'CD0007_SUM', 'CD0008_SUM', 'CD0009_SUM', 'CD0010_SUM', 'CD0011_SUM', 'CD0012_SUM', 'CD0013_SUM', 'CD0014_SUM', 'CD0015_SUM', 'CD0016_SUM', 'CD0017_SUM', 'CD0018_SUM', 'CD0019_SUM', 'CD0020_SUM', 'CD0021_SUM', 'CD0022_SUM', 'CD0023_SUM', 'CD0024_SUM', 'CD0025_SUM', 'CD0026_SUM', 'CD0027_SUM', 'CD0028_SUM', 'CD0029_SUM', 'CD0030_SUM', 'CD0031_SUM', 'CD0032_SUM', 'CD0033_SUM', 'CD0034_SUM', 'CD0035_SUM', 'CD0036_SUM', 'CD0037_SUM', 'CD0038_SUM', 'CD0039_SUM', 'CD0040_SUM', 'CD0044_SUM', 'CD0045_SUM', 'CD0046_SUM', 'CD0047_SUM', 'CD0048_SUM', 'CD0049_SUM', 'CD0050_SUM', 'CD0051_SUM', 'CD0052_SUM', 'CD0053_SUM', 'CD0054_SUM', 'CD0055_SUM', 'CD0056_SUM', 'CD0057_SUM', 'CD0058_SUM', 'CD0059_SUM', 'CD0060_SUM', 'CD0061_SUM', 'CD0062_SUM', 'CD0063_SUM', 'CD0064_SUM', 'CD0065_SUM', 'CD0066_SUM', 'CD0067_SUM', 'CD0068_SUM', 'CD0069_SUM', 'CD0070_SUM', 'CD0071_SUM', 'CD0046_RAT', 'CD0047_RAT', 'CD0048_RAT', 'CD0049_RAT', 'CD0050_RAT', 'CD0051_RAT', 'CD0052_RAT', 'CD0053_RAT', 'CD0054_RAT', 'CD0055_RAT', 'CD0056_RAT', 'CD0057_RAT', 'CD0058_RAT', 'CD0059_RAT', 'CD0060_RAT', 'CD0061_RAT', 'CD0062_RAT', 'CD0063_RAT', 'CD0064_RAT', 'CD0065_RAT', 'CD0066_RAT', 'CD0067_RAT', 'CD0068_RAT', 'CD0069_RAT', 'CD0070_RAT', 'CD0071_RAT', 'CDX001', 'CDX002', 'CDX003', 'CDX004', 'CDX005', 'CDX006', 'CDX007', 'CDX008', 'CDX009', 'CDX010']\n"
     ]
    }
   ],
   "source": [
    "print(dtype_numeric)"
   ]
  },
  {
   "cell_type": "code",
   "execution_count": 7,
   "id": "347d5a2d-184d-4c07-bb90-bb2947afa13b",
   "metadata": {
    "tags": []
   },
   "outputs": [
    {
     "data": {
      "text/plain": [
       "(39928, 281)"
      ]
     },
     "execution_count": 7,
     "metadata": {},
     "output_type": "execute_result"
    }
   ],
   "source": [
    "# encoding\n",
    "dtype_object = f_cat + customer[f_stock+f_fire+f_card].select_dtypes('object').columns.to_list()\n",
    "dtype_numeric = f_num + customer[f_stock+f_fire+f_card].select_dtypes(exclude=['object']).columns.to_list()\n",
    "assert len(dtype_object) + len(dtype_numeric) == customer.shape[1]-4-4 # '�������','����������Ͽ���','�Һ�����','NO_CARD_CUST'\n",
    "customer[dtype_object] = customer[dtype_object].fillna('-1')\n",
    "\n",
    "data_cust = customer[dtype_object + dtype_numeric]\n",
    "\n",
    "if is_development:\n",
    "    os.makedirs('utils/encoders/', exist_ok=True)\n",
    "    # category\n",
    "    for feat in dtype_object:\n",
    "        lbe = LabelEncoder()\n",
    "        data_cust[feat] = lbe.fit_transform(data_cust[feat])\n",
    "        # save\n",
    "        filename = f'utils/encoders/{feat}_label_encoder.joblib'\n",
    "        joblib.dump(lbe, filename)\n",
    "        \n",
    "    # numeric\n",
    "    mms = MinMaxScaler(feature_range=(0, 1))\n",
    "    data_cust[dtype_numeric] = mms.fit_transform(data_cust[dtype_numeric])\n",
    "    joblib.dump(mms, 'utils/encoders/minmax_scaler.joblib')\n",
    "    \n",
    "else:\n",
    "    for feat in dtype_object:\n",
    "        filename = f'utils/encoders/{feat}_label_encoder.joblib'\n",
    "        lbe = joblib.load(filename)\n",
    "        data_cust[feat] = data_cust[feat].map(\n",
    "            lambda s: lbe.transform([s])[0]\n",
    "            if s in lbe.classes_\n",
    "            else -1)\n",
    "        \n",
    "    mms = joblib.load('utils/encoders/minmax_scaler.joblib')\n",
    "    data_cust[dtype_numeric] = mms.transform(data_cust[dtype_numeric])\n",
    "\n",
    "data_cust.shape"
   ]
  },
  {
   "cell_type": "code",
   "execution_count": 8,
   "id": "4d971415-ee7d-4af0-95b8-c42bc2ca9708",
   "metadata": {
    "tags": []
   },
   "outputs": [
    {
     "data": {
      "text/plain": [
       "39928"
      ]
     },
     "execution_count": 8,
     "metadata": {},
     "output_type": "execute_result"
    }
   ],
   "source": [
    "ids  = data_cust.drop(data_cust.columns, axis=1)\n",
    "len(ids)"
   ]
  },
  {
   "cell_type": "markdown",
   "id": "1354f380-d543-420e-9b45-2481896107f2",
   "metadata": {},
   "source": [
    "# ��������"
   ]
  },
  {
   "cell_type": "code",
   "execution_count": 9,
   "id": "8cef9bff-80bf-499f-a12c-57688ed39bd9",
   "metadata": {
    "tags": []
   },
   "outputs": [
    {
     "data": {
      "text/html": [
       "<div>\n",
       "<style scoped>\n",
       "    .dataframe tbody tr th:only-of-type {\n",
       "        vertical-align: middle;\n",
       "    }\n",
       "\n",
       "    .dataframe tbody tr th {\n",
       "        vertical-align: top;\n",
       "    }\n",
       "\n",
       "    .dataframe thead th {\n",
       "        text-align: right;\n",
       "    }\n",
       "</style>\n",
       "<table border=\"1\" class=\"dataframe\">\n",
       "  <thead>\n",
       "    <tr style=\"text-align: right;\">\n",
       "      <th></th>\n",
       "      <th>product_1</th>\n",
       "      <th>product_2</th>\n",
       "      <th>product_3</th>\n",
       "      <th>product_4</th>\n",
       "      <th>product_5</th>\n",
       "      <th>product_6</th>\n",
       "      <th>product_7</th>\n",
       "      <th>product_8</th>\n",
       "      <th>product_9</th>\n",
       "      <th>product_10</th>\n",
       "    </tr>\n",
       "    <tr>\n",
       "      <th>ID</th>\n",
       "      <th></th>\n",
       "      <th></th>\n",
       "      <th></th>\n",
       "      <th></th>\n",
       "      <th></th>\n",
       "      <th></th>\n",
       "      <th></th>\n",
       "      <th></th>\n",
       "      <th></th>\n",
       "      <th></th>\n",
       "    </tr>\n",
       "  </thead>\n",
       "  <tbody>\n",
       "    <tr>\n",
       "      <th>1</th>\n",
       "      <td>6.0</td>\n",
       "      <td>11.0</td>\n",
       "      <td>9.0</td>\n",
       "      <td>10.0</td>\n",
       "      <td>0.0</td>\n",
       "      <td>0.0</td>\n",
       "      <td>0.0</td>\n",
       "      <td>0.0</td>\n",
       "      <td>0.0</td>\n",
       "      <td>0.0</td>\n",
       "    </tr>\n",
       "  </tbody>\n",
       "</table>\n",
       "</div>"
      ],
      "text/plain": [
       "    product_1  product_2  product_3  product_4  product_5  product_6  \\\n",
       "ID                                                                     \n",
       "1         6.0       11.0        9.0       10.0        0.0        0.0   \n",
       "\n",
       "    product_7  product_8  product_9  product_10  \n",
       "ID                                               \n",
       "1         0.0        0.0        0.0         0.0  "
      ]
     },
     "execution_count": 9,
     "metadata": {},
     "output_type": "execute_result"
    }
   ],
   "source": [
    "# �ֱ� N�� ���\n",
    "def latest_n_product(contract_previous, n=10):\n",
    "    latest_product_order = contract_previous.sort_values(by=['ID', '�������'], ascending=[True, False])\n",
    "    latest_product_order = latest_product_order.groupby(['ID']).head(n)\n",
    "    latest_product_order['order'] = latest_product_order.groupby(['ID']).cumcount() + 1    \n",
    "    \n",
    "    latest_product_category = latest_product_order.pivot_table(index='ID', columns='order', values='prdt_cat')\n",
    "    latest_product_category.columns = list(map(lambda x: f'product_{x+1}', range(n)))\n",
    "    return latest_product_category\n",
    "\n",
    "latest_product_category = latest_n_product(contract_previous).fillna(0)\n",
    "latest_product_category.head(1)"
   ]
  },
  {
   "cell_type": "code",
   "execution_count": 10,
   "id": "f60a0c02-ff51-4b08-9416-93d0a8e63a01",
   "metadata": {
    "tags": []
   },
   "outputs": [
    {
     "data": {
      "text/html": [
       "<div>\n",
       "<style scoped>\n",
       "    .dataframe tbody tr th:only-of-type {\n",
       "        vertical-align: middle;\n",
       "    }\n",
       "\n",
       "    .dataframe tbody tr th {\n",
       "        vertical-align: top;\n",
       "    }\n",
       "\n",
       "    .dataframe thead th {\n",
       "        text-align: right;\n",
       "    }\n",
       "</style>\n",
       "<table border=\"1\" class=\"dataframe\">\n",
       "  <thead>\n",
       "    <tr style=\"text-align: right;\">\n",
       "      <th></th>\n",
       "      <th>ID</th>\n",
       "      <th>��ǰ�ڵ�</th>\n",
       "      <th>��ǰ�з�</th>\n",
       "      <th>��ǰ�ߺз�2</th>\n",
       "      <th>�ǸŻ�ǰ�ڵ�</th>\n",
       "      <th>�������</th>\n",
       "      <th>prdt_cat</th>\n",
       "      <th>��࿩��</th>\n",
       "      <th>�������</th>\n",
       "    </tr>\n",
       "  </thead>\n",
       "  <tbody>\n",
       "    <tr>\n",
       "      <th>0</th>\n",
       "      <td>1</td>\n",
       "      <td>LP0673001</td>\n",
       "      <td>32.��</td>\n",
       "      <td>32.��</td>\n",
       "      <td>P0673</td>\n",
       "      <td>2022-10-18</td>\n",
       "      <td>6</td>\n",
       "      <td>1</td>\n",
       "      <td>6</td>\n",
       "    </tr>\n",
       "  </tbody>\n",
       "</table>\n",
       "</div>"
      ],
      "text/plain": [
       "  ID       ��ǰ�ڵ�  ��ǰ�з� ��ǰ�ߺз�2 �ǸŻ�ǰ�ڵ�       �������  prdt_cat  ��࿩��  �������\n",
       "0  1  LP0673001  32.��   32.��  P0673 2022-10-18         6     1      6"
      ]
     },
     "execution_count": 10,
     "metadata": {},
     "output_type": "execute_result"
    }
   ],
   "source": [
    "end_date = pd.to_datetime(yyyymm, format='%Y%m').to_pydatetime().date()\n",
    "\n",
    "contract_previous['��࿩��'] = 1\n",
    "contract_previous['�������'] = list(map(lambda x: relativedelta(end_date, x).years*12 + relativedelta(end_date, x).months, contract_previous['�������']))\n",
    "contract_previous.head(1)"
   ]
  },
  {
   "cell_type": "code",
   "execution_count": 11,
   "id": "1b4f6092-5f31-47c1-82d7-cfdf91a71696",
   "metadata": {
    "tags": []
   },
   "outputs": [],
   "source": [
    "contract_previous_features = ids[:]\n",
    "contract_previous_features['pre_contract_count'] = contract_previous.groupby('ID').��࿩��.count()\n",
    "contract_previous_features['pre_contract_month_min'] = contract_previous.groupby('ID').�������.min()\n",
    "contract_previous_features['pre_contract_month_max'] = contract_previous.groupby('ID').�������.max()\n",
    "\n",
    "assert len(contract_previous_features[contract_previous_features.pre_contract_count==0]) == 0"
   ]
  },
  {
   "cell_type": "code",
   "execution_count": 12,
   "id": "39a16436-fb24-4db9-96cb-b080f84576e6",
   "metadata": {},
   "outputs": [],
   "source": [
    "# YN by product categoies\n",
    "data_prodpre_yn = contract_previous.pivot_table(index='ID', columns='prdt_cat', values='��࿩��', aggfunc='max').fillna(0)\n",
    "data_prodpre_yn.columns = list(map(lambda x: f'pre_yn_{x}', data_prodpre_yn.columns))\n",
    "# data_prodpre_yn.head(1)"
   ]
  },
  {
   "cell_type": "code",
   "execution_count": 13,
   "id": "b2e8aba2-36dc-48d6-aa5b-a31856649820",
   "metadata": {
    "tags": []
   },
   "outputs": [],
   "source": [
    "# Minimum elapsed months by product categories\n",
    "data_prodpre_month = contract_previous.pivot_table(index='ID', columns='prdt_cat', values='�������', aggfunc='min')#.fillna(-1)\n",
    "data_prodpre_month.columns = list(map(lambda x: f'pre_m_{x}', data_prodpre_month.columns))"
   ]
  },
  {
   "cell_type": "code",
   "execution_count": 14,
   "id": "77526f44-6fed-49af-b0e1-1d4ce9d64fbf",
   "metadata": {
    "tags": []
   },
   "outputs": [],
   "source": [
    "# make quantile dictionary\n",
    "def make_elapsed_month_quantile_dictionary(data_prodpre_month, yyyymm, inital_quantile_num=10):\n",
    "    if yyyymm != '202302':\n",
    "        raise ValueError('Check data')\n",
    "    quantile_dic = {}\n",
    "    for col in data_prodpre_month.columns:\n",
    "        n = inital_quantile_num\n",
    "        quantiles = data_prodpre_month[col].quantile(list(np.linspace(0, 1, n+1)))\n",
    "        while quantiles.duplicated().any():\n",
    "            n = n-1\n",
    "            quantiles = data_prodpre_month[col].quantile(list(np.linspace(0, 1, n+1)))\n",
    "        quantile_dic[col] = quantiles.to_dict()\n",
    "    with open(f'utils/elapsed_month_quantile_dictionary_{yyyymm}.json', 'w') as f:\n",
    "        json.dump(quantile_dic, f)\n",
    "# make_elapsed_month_quantile_dictionary(data_prodpre_month, yyyymm)\n",
    "\n",
    "with open('utils/elapsed_month_quantile_dictionary_202302.json', 'rb') as f:\n",
    "    quantile_dic = json.load(f)"
   ]
  },
  {
   "cell_type": "code",
   "execution_count": 15,
   "id": "23f9d447-3ae4-4ef1-8f26-ff1ba25215cb",
   "metadata": {
    "tags": []
   },
   "outputs": [],
   "source": [
    "# months �� quantile categories\n",
    "data_prodpre_month_cat = pd.DataFrame()\n",
    "for col, bins in quantile_dic.items():\n",
    "    data_prodpre_month_cat[col+'_cat'] = pd.cut(data_prodpre_month[col], bins=list(bins.values()), labels=list(map(lambda x: f'Q{x+1}', range(len(bins)-1))))\n",
    "assert data_prodpre_month_cat.shape == data_prodpre_month.shape"
   ]
  },
  {
   "cell_type": "code",
   "execution_count": 16,
   "id": "e2172a5d-6d4a-4b30-bae3-bc67ad90f7d0",
   "metadata": {
    "tags": []
   },
   "outputs": [],
   "source": [
    "data_prodpre_month = data_prodpre_month.fillna(-1)\n",
    "for feat in data_prodpre_month_cat:\n",
    "    lbe = LabelEncoder()\n",
    "    data_prodpre_month_cat[feat] = lbe.fit_transform(data_prodpre_month_cat[feat])"
   ]
  },
  {
   "cell_type": "code",
   "execution_count": 17,
   "id": "4acd4e30-a07e-4c46-a114-4f40181059dd",
   "metadata": {
    "tags": []
   },
   "outputs": [],
   "source": [
    "data_prodpre = pd.concat([ids, latest_product_category, contract_previous_features, data_prodpre_yn, data_prodpre_month, data_prodpre_month_cat], axis=1)\n",
    "assert data_prodpre.shape[0] == customer.shape[0]"
   ]
  },
  {
   "cell_type": "code",
   "execution_count": 18,
   "id": "f546d42c-87c4-4f73-a2ef-cdb5d5848d7c",
   "metadata": {},
   "outputs": [],
   "source": [
    "a = data_prodpre.isna().sum(axis=0)\n",
    "assert len(a[a>0]) == 0"
   ]
  },
  {
   "cell_type": "markdown",
   "id": "bac8be9e-ca8f-480b-8134-08ecde41393b",
   "metadata": {},
   "source": [
    "# Ÿ�� ��� ����"
   ]
  },
  {
   "cell_type": "code",
   "execution_count": 19,
   "id": "69d8bca7-6814-484f-8f61-b41226b0e0b7",
   "metadata": {},
   "outputs": [],
   "source": [
    "target_category_code = list(contract_target_label.values())"
   ]
  },
  {
   "cell_type": "code",
   "execution_count": 20,
   "id": "31bf4af1-c3db-4ea2-a3f8-08eca4b30bc5",
   "metadata": {},
   "outputs": [],
   "source": [
    "def make_target_describe(contract_target_y):\n",
    "    # count\n",
    "    traget_cnt_dict = contract_target_y[product_category].value_counts().to_dict()\n",
    "\n",
    "    # percent\n",
    "    total_count = sum(traget_cnt_dict.values())\n",
    "    target_precent = {}\n",
    "    for k, v in traget_cnt_dict.items():\n",
    "        target_precent[k] = round(v / total_count*100, 2)\n",
    "    target_precent = {key:value for key, value in sorted(target_precent.items(), key=lambda x:x[1], reverse=True)}\n",
    "    \n",
    "    return traget_cnt_dict, target_precent"
   ]
  },
  {
   "cell_type": "code",
   "execution_count": 21,
   "id": "e90fbe0d-1c25-45ac-a116-19d4886a7569",
   "metadata": {
    "tags": []
   },
   "outputs": [],
   "source": [
    "contract_target_y = contract_target[['ID', product_category,'prdt_cat']].drop_duplicates()\n",
    "if 'over' not in data_name:    \n",
    "    traget_cnt_dict, target_precent = make_target_describe(contract_target_y)\n",
    "    contract_target_y = contract_target_y.drop(columns=product_category)"
   ]
  },
  {
   "cell_type": "code",
   "execution_count": 22,
   "id": "66a122b0-505b-452e-909e-db6a1e258569",
   "metadata": {
    "tags": []
   },
   "outputs": [],
   "source": [
    "if 'over' in data_name:\n",
    "    value_count = contract_target_y.prdt_cat.value_counts()\n",
    "    max_count = value_count.max()\n",
    "    contract_target_y_over = contract_target_y[:]\n",
    "    for code in target_category_code:\n",
    "        limit_n = max_count//5\n",
    "        value_n = value_count[code]\n",
    "        if value_n < limit_n and value_n>1000:\n",
    "            df = contract_target_y_over[contract_target_y_over.prdt_cat == code]\n",
    "            n = min(limit_n-df.shape[0], df.shape[0]*3)\n",
    "            random_rows = df.sample(n=n, replace=True)\n",
    "            contract_target_y_over = pd.concat([contract_target_y_over, random_rows], ignore_index=True)   \n",
    "               \n",
    "    traget_cnt_dict, target_precent = make_target_describe(contract_target_y_over)\n",
    "    contract_target_y = contract_target_y_over.drop(columns=product_category)"
   ]
  },
  {
   "cell_type": "markdown",
   "id": "e505e1db-e940-45fc-85b1-573e2347fdca",
   "metadata": {},
   "source": [
    "### label"
   ]
  },
  {
   "cell_type": "code",
   "execution_count": 34,
   "id": "c08b588b-91d7-401d-93d7-d5779110e48a",
   "metadata": {
    "tags": []
   },
   "outputs": [
    {
     "data": {
      "text/plain": [
       "{'contract_previous_label': {'38.�ǰ�': 1,\n",
       "  '11.�Ϲ�����': 2,\n",
       "  '31.���': 3,\n",
       "  '37.ġ��': 4,\n",
       "  '41.�Ϲݿ���': 5,\n",
       "  '32.��': 6,\n",
       "  '43.���ݿ���': 7,\n",
       "  '51.�Ϲ�����': 8,\n",
       "  '39.����': 9,\n",
       "  '20.CI': 10,\n",
       "  '35.����': 11,\n",
       "  '33.����': 12,\n",
       "  '12.��������': 13,\n",
       "  '34.�Ǽ�': 14,\n",
       "  '��Ÿ': 15,\n",
       "  '42.���׿���': 16,\n",
       "  '52.��������': 17,\n",
       "  '36.��ü': 18},\n",
       " 'contract_target_label': {'38.�ǰ�': 1,\n",
       "  '11.�Ϲ�����': 2,\n",
       "  '31.���': 3,\n",
       "  '37.ġ��': 4,\n",
       "  '41.�Ϲݿ���': 5,\n",
       "  '32.��': 6,\n",
       "  '43.���ݿ���': 7,\n",
       "  '51.�Ϲ�����': 8,\n",
       "  '39.����': 9,\n",
       "  '20.CI': 10,\n",
       "  '35.����': 11,\n",
       "  '33.����': 12}}"
      ]
     },
     "execution_count": 34,
     "metadata": {},
     "output_type": "execute_result"
    }
   ],
   "source": [
    "read_product_label()"
   ]
  },
  {
   "cell_type": "code",
   "execution_count": 23,
   "id": "aae8c6b6-03a6-45c4-88d4-7dde62febe99",
   "metadata": {
    "tags": []
   },
   "outputs": [
    {
     "name": "stdout",
     "output_type": "stream",
     "text": [
      "Code: target / non-target\n",
      "1: 25,987 / 13,941\n",
      "2: 11,900 / 28,028\n",
      "3: 3,352 / 36,576\n",
      "4: 2,135 / 37,793\n",
      "5: 1,329 / 38,599\n",
      "6: 992 / 38,936\n",
      "7: 789 / 39,139\n",
      "8: 534 / 39,394\n",
      "9: 327 / 39,601\n",
      "10: 244 / 39,684\n",
      "11: 195 / 39,733\n",
      "12: 66 / 39,862\n",
      "(57667, 2)\n"
     ]
    }
   ],
   "source": [
    "if is_development:\n",
    "    tot_ids = set(contract_target_y.ID)\n",
    "    contract_target_n = pd.DataFrame()\n",
    "    print('Code: target / non-target')\n",
    "    for code in target_category_code:\n",
    "        code_target_data = contract_target_y[contract_target_y['prdt_cat'] == code].drop_duplicates()\n",
    "        code_target_ids = set(code_target_data.ID)\n",
    "        if 'over' not in data_name:\n",
    "            assert len(code_target_ids) == len(set(code_target_ids))\n",
    "\n",
    "        categroy_non_target_data = contract_target_y.loc[~contract_target_y['ID'].isin(code_target_ids), ['ID']].drop_duplicates()\n",
    "\n",
    "        num_of_target = len(code_target_ids)\n",
    "        num_of_non_target = len(tot_ids-code_target_ids)\n",
    "        \n",
    "        print(f'{code}: {num_of_target:,} / {num_of_non_target:,}')\n",
    "        num_of_sample = min(num_of_non_target, num_of_target*2)\n",
    "        categroy_non_target_data = categroy_non_target_data.sample(num_of_sample, replace=False, random_state=seed)\n",
    "        categroy_non_target_data['prdt_cat'] = code\n",
    "\n",
    "        contract_target_n = contract_target_n.append(categroy_non_target_data)\n",
    "\n",
    "        del categroy_non_target_data\n",
    "    \n",
    "    print(contract_target_n.shape)\n",
    "    assert len(contract_target_n[contract_target_n.duplicated()]) == 0    "
   ]
  },
  {
   "cell_type": "code",
   "execution_count": 24,
   "id": "235c02b8-1202-46c3-b788-1ad9f1bd6c27",
   "metadata": {
    "tags": []
   },
   "outputs": [],
   "source": [
    "contract_target_y[target_label] = 1\n",
    "if is_development:\n",
    "    contract_target_n[target_label] = 0\n",
    "    data_target_label = contract_target_y.append(contract_target_n)\n",
    "else:\n",
    "    data_target_label = contract_target_y[:]\n",
    "    \n",
    "data_target_label = data_target_label.set_index('ID')\n",
    "data_target_label.columns = ['target_category', target_label]"
   ]
  },
  {
   "cell_type": "code",
   "execution_count": 25,
   "id": "a33fbb10-f793-4aff-86ed-26f0a3129ca2",
   "metadata": {
    "tags": []
   },
   "outputs": [],
   "source": [
    "# has item\n",
    "has_item = list(map(lambda x, y: data_prodpre.loc[str(x), f'pre_yn_{y}'], data_target_label.index, data_target_label.target_category))\n",
    "assert len(has_item) == data_target_label.shape[0]\n",
    "data_target_label['has_item'] = has_item"
   ]
  },
  {
   "cell_type": "code",
   "execution_count": 26,
   "id": "aa0bebe9-5ee5-4ae1-b09a-437649f4d7ad",
   "metadata": {},
   "outputs": [],
   "source": [
    "a = data_target_label.isna().sum(axis=0)\n",
    "assert len(a[a>0]) == 0"
   ]
  },
  {
   "cell_type": "markdown",
   "id": "c3ba298a-3ff7-4945-953d-ec6acee02005",
   "metadata": {},
   "source": [
    "# Join"
   ]
  },
  {
   "cell_type": "code",
   "execution_count": 27,
   "id": "a2eee409-b1a6-4801-8f53-19a6c2eaa12d",
   "metadata": {
    "tags": []
   },
   "outputs": [
    {
     "data": {
      "text/plain": [
       "(105517, 351)"
      ]
     },
     "execution_count": 27,
     "metadata": {},
     "output_type": "execute_result"
    }
   ],
   "source": [
    "data = data_cust.join(data_prodpre).join(data_target_label)\n",
    "data.shape"
   ]
  },
  {
   "cell_type": "code",
   "execution_count": 28,
   "id": "3f58aae6-4a67-4a9a-88d6-21c13c55601d",
   "metadata": {
    "tags": []
   },
   "outputs": [],
   "source": [
    "a = data.isna().sum(axis=0)\n",
    "assert len(a[a>0]) == 0\n",
    "assert data.duplicated().sum() == 0"
   ]
  },
  {
   "cell_type": "markdown",
   "id": "3d5c86f1-81c6-41cc-beda-26e2f7928dfe",
   "metadata": {},
   "source": [
    "# SAVE"
   ]
  },
  {
   "cell_type": "code",
   "execution_count": 29,
   "id": "ade28d8c-d049-4ece-b7be-b690f10b4c00",
   "metadata": {
    "tags": []
   },
   "outputs": [],
   "source": [
    "num_of_rows = data.shape[0]\n",
    "num_of_ids = len(set(data.index))\n",
    "\n",
    "target_ = data[data[target_label]==1]\n",
    "num_of_target = sum(target_[target_label])\n",
    "num_of_target_ids = len(set(target_.index))\n",
    "\n",
    "data_config = {}\n",
    "data_config['data_name'] = data_name\n",
    "\n",
    "data_config['data'] = {'reference_date':yyyymm,\n",
    "                       'is_development':is_development,\n",
    "                        'num_of_rows':num_of_rows,\n",
    "                        'num_of_ids':num_of_ids}\n",
    "\n",
    "data_config['target'] = {'target_label':target_label,\n",
    "                        'num_of_target':num_of_target,\n",
    "                        'percent_of_target': round(num_of_target/num_of_rows*100,1),\n",
    "                        'num_of_target_ids':num_of_target_ids,\n",
    "                        'percent_of_target_ids':round(num_of_target_ids/num_of_ids*100,1),\n",
    "                        'target_categories':list(contract_target.��ǰ�ߺз�2.value_counts().keys()),\n",
    "                        'target_category_count':traget_cnt_dict,\n",
    "                        'target_category_percent':target_precent\n",
    "                         }\n",
    "data_config['features'] = {'user_numeric':f_num,\n",
    "                           # 'features_card':f_card,\n",
    "                           # 'features_fire':f_fire,\n",
    "                           # 'features_stock':f_stock,\n",
    "                           'f_fire_contract':f_fire_contract,\n",
    "                           'product_describe':contract_previous_features.columns.tolist(),\n",
    "                           'product_yn':data_prodpre_yn.columns.tolist(),\n",
    "                           'product_month':data_prodpre_month.columns.tolist(),\n",
    "                           'product_month_category':data_prodpre_month_cat.columns.tolist(),\n",
    "                           'user_category':f_cat,\n",
    "                           'product_latest':latest_product_category.columns.tolist(),\n",
    "                           'has_item':['has_item'],\n",
    "                           'target_category':['target_category'],\n",
    "                           }\n",
    "\n",
    "\n",
    "with open(f'input/{data_name}_config.json', 'w') as f:\n",
    "    json.dump(data_config, f)"
   ]
  },
  {
   "cell_type": "code",
   "execution_count": 30,
   "id": "701e3e32-b1d8-48eb-abf7-dc7d194062dc",
   "metadata": {},
   "outputs": [],
   "source": [
    "data.to_csv(f'input/{data_name}.csv')"
   ]
  },
  {
   "cell_type": "code",
   "execution_count": 31,
   "id": "9dca029b-05b4-4050-8354-e4a83949576a",
   "metadata": {
    "tags": []
   },
   "outputs": [
    {
     "data": {
      "text/plain": [
       "0    57667\n",
       "1    47850\n",
       "Name: target, dtype: int64"
      ]
     },
     "execution_count": 31,
     "metadata": {},
     "output_type": "execute_result"
    }
   ],
   "source": [
    "data.target.value_counts()"
   ]
  },
  {
   "cell_type": "code",
   "execution_count": 32,
   "id": "35879ec3-12e9-4162-af92-00c79cbf8d36",
   "metadata": {},
   "outputs": [],
   "source": [
    "# load\n",
    "devset = pd.read_csv('input/data_delvariable_202305.csv')\n"
   ]
  },
  {
   "cell_type": "code",
   "execution_count": 39,
   "id": "e9192350-499c-4be6-a16d-538c784995ad",
   "metadata": {
    "tags": []
   },
   "outputs": [
    {
     "data": {
      "text/html": [
       "<div>\n",
       "<style scoped>\n",
       "    .dataframe tbody tr th:only-of-type {\n",
       "        vertical-align: middle;\n",
       "    }\n",
       "\n",
       "    .dataframe tbody tr th {\n",
       "        vertical-align: top;\n",
       "    }\n",
       "\n",
       "    .dataframe thead th {\n",
       "        text-align: right;\n",
       "    }\n",
       "</style>\n",
       "<table border=\"1\" class=\"dataframe\">\n",
       "  <thead>\n",
       "    <tr style=\"text-align: right;\">\n",
       "      <th></th>\n",
       "      <th>target_sum</th>\n",
       "      <th>target_count</th>\n",
       "      <th>proportion</th>\n",
       "    </tr>\n",
       "    <tr>\n",
       "      <th>target_category</th>\n",
       "      <th></th>\n",
       "      <th></th>\n",
       "      <th></th>\n",
       "    </tr>\n",
       "  </thead>\n",
       "  <tbody>\n",
       "    <tr>\n",
       "      <th>1</th>\n",
       "      <td>25987</td>\n",
       "      <td>39928</td>\n",
       "      <td>65.1</td>\n",
       "    </tr>\n",
       "    <tr>\n",
       "      <th>2</th>\n",
       "      <td>11900</td>\n",
       "      <td>35700</td>\n",
       "      <td>33.3</td>\n",
       "    </tr>\n",
       "    <tr>\n",
       "      <th>3</th>\n",
       "      <td>3352</td>\n",
       "      <td>10056</td>\n",
       "      <td>33.3</td>\n",
       "    </tr>\n",
       "    <tr>\n",
       "      <th>4</th>\n",
       "      <td>2135</td>\n",
       "      <td>6405</td>\n",
       "      <td>33.3</td>\n",
       "    </tr>\n",
       "    <tr>\n",
       "      <th>5</th>\n",
       "      <td>1329</td>\n",
       "      <td>3987</td>\n",
       "      <td>33.3</td>\n",
       "    </tr>\n",
       "    <tr>\n",
       "      <th>6</th>\n",
       "      <td>992</td>\n",
       "      <td>2976</td>\n",
       "      <td>33.3</td>\n",
       "    </tr>\n",
       "    <tr>\n",
       "      <th>7</th>\n",
       "      <td>789</td>\n",
       "      <td>2367</td>\n",
       "      <td>33.3</td>\n",
       "    </tr>\n",
       "    <tr>\n",
       "      <th>8</th>\n",
       "      <td>534</td>\n",
       "      <td>1602</td>\n",
       "      <td>33.3</td>\n",
       "    </tr>\n",
       "    <tr>\n",
       "      <th>9</th>\n",
       "      <td>327</td>\n",
       "      <td>981</td>\n",
       "      <td>33.3</td>\n",
       "    </tr>\n",
       "    <tr>\n",
       "      <th>10</th>\n",
       "      <td>244</td>\n",
       "      <td>732</td>\n",
       "      <td>33.3</td>\n",
       "    </tr>\n",
       "    <tr>\n",
       "      <th>11</th>\n",
       "      <td>195</td>\n",
       "      <td>585</td>\n",
       "      <td>33.3</td>\n",
       "    </tr>\n",
       "    <tr>\n",
       "      <th>12</th>\n",
       "      <td>66</td>\n",
       "      <td>198</td>\n",
       "      <td>33.3</td>\n",
       "    </tr>\n",
       "  </tbody>\n",
       "</table>\n",
       "</div>"
      ],
      "text/plain": [
       "                 target_sum  target_count  proportion\n",
       "target_category                                      \n",
       "1                     25987         39928        65.1\n",
       "2                     11900         35700        33.3\n",
       "3                      3352         10056        33.3\n",
       "4                      2135          6405        33.3\n",
       "5                      1329          3987        33.3\n",
       "6                       992          2976        33.3\n",
       "7                       789          2367        33.3\n",
       "8                       534          1602        33.3\n",
       "9                       327           981        33.3\n",
       "10                      244           732        33.3\n",
       "11                      195           585        33.3\n",
       "12                       66           198        33.3"
      ]
     },
     "execution_count": 39,
     "metadata": {},
     "output_type": "execute_result"
    }
   ],
   "source": [
    "grp = devset.groupby('target_category').agg({'target':['sum', 'count']})\n",
    "grp.columns = ['target_sum', 'target_count']\n",
    "grp['proportion'] = round(grp.target_sum / grp.target_count*100,1)\n",
    "grp"
   ]
  },
  {
   "cell_type": "code",
   "execution_count": null,
   "id": "fc28ae2b-37f8-4494-9309-f031a875e57c",
   "metadata": {},
   "outputs": [],
   "source": [
    "\n"
   ]
  }
 ],
 "metadata": {
  "availableInstances": [
   {
    "_defaultOrder": 0,
    "_isFastLaunch": true,
    "category": "General purpose",
    "gpuNum": 0,
    "hideHardwareSpecs": false,
    "memoryGiB": 4,
    "name": "ml.t3.medium",
    "vcpuNum": 2
   },
   {
    "_defaultOrder": 1,
    "_isFastLaunch": false,
    "category": "General purpose",
    "gpuNum": 0,
    "hideHardwareSpecs": false,
    "memoryGiB": 8,
    "name": "ml.t3.large",
    "vcpuNum": 2
   },
   {
    "_defaultOrder": 2,
    "_isFastLaunch": false,
    "category": "General purpose",
    "gpuNum": 0,
    "hideHardwareSpecs": false,
    "memoryGiB": 16,
    "name": "ml.t3.xlarge",
    "vcpuNum": 4
   },
   {
    "_defaultOrder": 3,
    "_isFastLaunch": false,
    "category": "General purpose",
    "gpuNum": 0,
    "hideHardwareSpecs": false,
    "memoryGiB": 32,
    "name": "ml.t3.2xlarge",
    "vcpuNum": 8
   },
   {
    "_defaultOrder": 4,
    "_isFastLaunch": true,
    "category": "General purpose",
    "gpuNum": 0,
    "hideHardwareSpecs": false,
    "memoryGiB": 8,
    "name": "ml.m5.large",
    "vcpuNum": 2
   },
   {
    "_defaultOrder": 5,
    "_isFastLaunch": false,
    "category": "General purpose",
    "gpuNum": 0,
    "hideHardwareSpecs": false,
    "memoryGiB": 16,
    "name": "ml.m5.xlarge",
    "vcpuNum": 4
   },
   {
    "_defaultOrder": 6,
    "_isFastLaunch": false,
    "category": "General purpose",
    "gpuNum": 0,
    "hideHardwareSpecs": false,
    "memoryGiB": 32,
    "name": "ml.m5.2xlarge",
    "vcpuNum": 8
   },
   {
    "_defaultOrder": 7,
    "_isFastLaunch": false,
    "category": "General purpose",
    "gpuNum": 0,
    "hideHardwareSpecs": false,
    "memoryGiB": 64,
    "name": "ml.m5.4xlarge",
    "vcpuNum": 16
   },
   {
    "_defaultOrder": 8,
    "_isFastLaunch": false,
    "category": "General purpose",
    "gpuNum": 0,
    "hideHardwareSpecs": false,
    "memoryGiB": 128,
    "name": "ml.m5.8xlarge",
    "vcpuNum": 32
   },
   {
    "_defaultOrder": 9,
    "_isFastLaunch": false,
    "category": "General purpose",
    "gpuNum": 0,
    "hideHardwareSpecs": false,
    "memoryGiB": 192,
    "name": "ml.m5.12xlarge",
    "vcpuNum": 48
   },
   {
    "_defaultOrder": 10,
    "_isFastLaunch": false,
    "category": "General purpose",
    "gpuNum": 0,
    "hideHardwareSpecs": false,
    "memoryGiB": 256,
    "name": "ml.m5.16xlarge",
    "vcpuNum": 64
   },
   {
    "_defaultOrder": 11,
    "_isFastLaunch": false,
    "category": "General purpose",
    "gpuNum": 0,
    "hideHardwareSpecs": false,
    "memoryGiB": 384,
    "name": "ml.m5.24xlarge",
    "vcpuNum": 96
   },
   {
    "_defaultOrder": 12,
    "_isFastLaunch": false,
    "category": "General purpose",
    "gpuNum": 0,
    "hideHardwareSpecs": false,
    "memoryGiB": 8,
    "name": "ml.m5d.large",
    "vcpuNum": 2
   },
   {
    "_defaultOrder": 13,
    "_isFastLaunch": false,
    "category": "General purpose",
    "gpuNum": 0,
    "hideHardwareSpecs": false,
    "memoryGiB": 16,
    "name": "ml.m5d.xlarge",
    "vcpuNum": 4
   },
   {
    "_defaultOrder": 14,
    "_isFastLaunch": false,
    "category": "General purpose",
    "gpuNum": 0,
    "hideHardwareSpecs": false,
    "memoryGiB": 32,
    "name": "ml.m5d.2xlarge",
    "vcpuNum": 8
   },
   {
    "_defaultOrder": 15,
    "_isFastLaunch": false,
    "category": "General purpose",
    "gpuNum": 0,
    "hideHardwareSpecs": false,
    "memoryGiB": 64,
    "name": "ml.m5d.4xlarge",
    "vcpuNum": 16
   },
   {
    "_defaultOrder": 16,
    "_isFastLaunch": false,
    "category": "General purpose",
    "gpuNum": 0,
    "hideHardwareSpecs": false,
    "memoryGiB": 128,
    "name": "ml.m5d.8xlarge",
    "vcpuNum": 32
   },
   {
    "_defaultOrder": 17,
    "_isFastLaunch": false,
    "category": "General purpose",
    "gpuNum": 0,
    "hideHardwareSpecs": false,
    "memoryGiB": 192,
    "name": "ml.m5d.12xlarge",
    "vcpuNum": 48
   },
   {
    "_defaultOrder": 18,
    "_isFastLaunch": false,
    "category": "General purpose",
    "gpuNum": 0,
    "hideHardwareSpecs": false,
    "memoryGiB": 256,
    "name": "ml.m5d.16xlarge",
    "vcpuNum": 64
   },
   {
    "_defaultOrder": 19,
    "_isFastLaunch": false,
    "category": "General purpose",
    "gpuNum": 0,
    "hideHardwareSpecs": false,
    "memoryGiB": 384,
    "name": "ml.m5d.24xlarge",
    "vcpuNum": 96
   },
   {
    "_defaultOrder": 20,
    "_isFastLaunch": false,
    "category": "General purpose",
    "gpuNum": 0,
    "hideHardwareSpecs": true,
    "memoryGiB": 0,
    "name": "ml.geospatial.interactive",
    "supportedImageNames": [
     "sagemaker-geospatial-v1-0"
    ],
    "vcpuNum": 0
   },
   {
    "_defaultOrder": 21,
    "_isFastLaunch": true,
    "category": "Compute optimized",
    "gpuNum": 0,
    "hideHardwareSpecs": false,
    "memoryGiB": 4,
    "name": "ml.c5.large",
    "vcpuNum": 2
   },
   {
    "_defaultOrder": 22,
    "_isFastLaunch": false,
    "category": "Compute optimized",
    "gpuNum": 0,
    "hideHardwareSpecs": false,
    "memoryGiB": 8,
    "name": "ml.c5.xlarge",
    "vcpuNum": 4
   },
   {
    "_defaultOrder": 23,
    "_isFastLaunch": false,
    "category": "Compute optimized",
    "gpuNum": 0,
    "hideHardwareSpecs": false,
    "memoryGiB": 16,
    "name": "ml.c5.2xlarge",
    "vcpuNum": 8
   },
   {
    "_defaultOrder": 24,
    "_isFastLaunch": false,
    "category": "Compute optimized",
    "gpuNum": 0,
    "hideHardwareSpecs": false,
    "memoryGiB": 32,
    "name": "ml.c5.4xlarge",
    "vcpuNum": 16
   },
   {
    "_defaultOrder": 25,
    "_isFastLaunch": false,
    "category": "Compute optimized",
    "gpuNum": 0,
    "hideHardwareSpecs": false,
    "memoryGiB": 72,
    "name": "ml.c5.9xlarge",
    "vcpuNum": 36
   },
   {
    "_defaultOrder": 26,
    "_isFastLaunch": false,
    "category": "Compute optimized",
    "gpuNum": 0,
    "hideHardwareSpecs": false,
    "memoryGiB": 96,
    "name": "ml.c5.12xlarge",
    "vcpuNum": 48
   },
   {
    "_defaultOrder": 27,
    "_isFastLaunch": false,
    "category": "Compute optimized",
    "gpuNum": 0,
    "hideHardwareSpecs": false,
    "memoryGiB": 144,
    "name": "ml.c5.18xlarge",
    "vcpuNum": 72
   },
   {
    "_defaultOrder": 28,
    "_isFastLaunch": false,
    "category": "Compute optimized",
    "gpuNum": 0,
    "hideHardwareSpecs": false,
    "memoryGiB": 192,
    "name": "ml.c5.24xlarge",
    "vcpuNum": 96
   },
   {
    "_defaultOrder": 29,
    "_isFastLaunch": true,
    "category": "Accelerated computing",
    "gpuNum": 1,
    "hideHardwareSpecs": false,
    "memoryGiB": 16,
    "name": "ml.g4dn.xlarge",
    "vcpuNum": 4
   },
   {
    "_defaultOrder": 30,
    "_isFastLaunch": false,
    "category": "Accelerated computing",
    "gpuNum": 1,
    "hideHardwareSpecs": false,
    "memoryGiB": 32,
    "name": "ml.g4dn.2xlarge",
    "vcpuNum": 8
   },
   {
    "_defaultOrder": 31,
    "_isFastLaunch": false,
    "category": "Accelerated computing",
    "gpuNum": 1,
    "hideHardwareSpecs": false,
    "memoryGiB": 64,
    "name": "ml.g4dn.4xlarge",
    "vcpuNum": 16
   },
   {
    "_defaultOrder": 32,
    "_isFastLaunch": false,
    "category": "Accelerated computing",
    "gpuNum": 1,
    "hideHardwareSpecs": false,
    "memoryGiB": 128,
    "name": "ml.g4dn.8xlarge",
    "vcpuNum": 32
   },
   {
    "_defaultOrder": 33,
    "_isFastLaunch": false,
    "category": "Accelerated computing",
    "gpuNum": 4,
    "hideHardwareSpecs": false,
    "memoryGiB": 192,
    "name": "ml.g4dn.12xlarge",
    "vcpuNum": 48
   },
   {
    "_defaultOrder": 34,
    "_isFastLaunch": false,
    "category": "Accelerated computing",
    "gpuNum": 1,
    "hideHardwareSpecs": false,
    "memoryGiB": 256,
    "name": "ml.g4dn.16xlarge",
    "vcpuNum": 64
   },
   {
    "_defaultOrder": 35,
    "_isFastLaunch": false,
    "category": "Accelerated computing",
    "gpuNum": 1,
    "hideHardwareSpecs": false,
    "memoryGiB": 61,
    "name": "ml.p3.2xlarge",
    "vcpuNum": 8
   },
   {
    "_defaultOrder": 36,
    "_isFastLaunch": false,
    "category": "Accelerated computing",
    "gpuNum": 4,
    "hideHardwareSpecs": false,
    "memoryGiB": 244,
    "name": "ml.p3.8xlarge",
    "vcpuNum": 32
   },
   {
    "_defaultOrder": 37,
    "_isFastLaunch": false,
    "category": "Accelerated computing",
    "gpuNum": 8,
    "hideHardwareSpecs": false,
    "memoryGiB": 488,
    "name": "ml.p3.16xlarge",
    "vcpuNum": 64
   },
   {
    "_defaultOrder": 38,
    "_isFastLaunch": false,
    "category": "Accelerated computing",
    "gpuNum": 8,
    "hideHardwareSpecs": false,
    "memoryGiB": 768,
    "name": "ml.p3dn.24xlarge",
    "vcpuNum": 96
   },
   {
    "_defaultOrder": 39,
    "_isFastLaunch": false,
    "category": "Memory Optimized",
    "gpuNum": 0,
    "hideHardwareSpecs": false,
    "memoryGiB": 16,
    "name": "ml.r5.large",
    "vcpuNum": 2
   },
   {
    "_defaultOrder": 40,
    "_isFastLaunch": false,
    "category": "Memory Optimized",
    "gpuNum": 0,
    "hideHardwareSpecs": false,
    "memoryGiB": 32,
    "name": "ml.r5.xlarge",
    "vcpuNum": 4
   },
   {
    "_defaultOrder": 41,
    "_isFastLaunch": false,
    "category": "Memory Optimized",
    "gpuNum": 0,
    "hideHardwareSpecs": false,
    "memoryGiB": 64,
    "name": "ml.r5.2xlarge",
    "vcpuNum": 8
   },
   {
    "_defaultOrder": 42,
    "_isFastLaunch": false,
    "category": "Memory Optimized",
    "gpuNum": 0,
    "hideHardwareSpecs": false,
    "memoryGiB": 128,
    "name": "ml.r5.4xlarge",
    "vcpuNum": 16
   },
   {
    "_defaultOrder": 43,
    "_isFastLaunch": false,
    "category": "Memory Optimized",
    "gpuNum": 0,
    "hideHardwareSpecs": false,
    "memoryGiB": 256,
    "name": "ml.r5.8xlarge",
    "vcpuNum": 32
   },
   {
    "_defaultOrder": 44,
    "_isFastLaunch": false,
    "category": "Memory Optimized",
    "gpuNum": 0,
    "hideHardwareSpecs": false,
    "memoryGiB": 384,
    "name": "ml.r5.12xlarge",
    "vcpuNum": 48
   },
   {
    "_defaultOrder": 45,
    "_isFastLaunch": false,
    "category": "Memory Optimized",
    "gpuNum": 0,
    "hideHardwareSpecs": false,
    "memoryGiB": 512,
    "name": "ml.r5.16xlarge",
    "vcpuNum": 64
   },
   {
    "_defaultOrder": 46,
    "_isFastLaunch": false,
    "category": "Memory Optimized",
    "gpuNum": 0,
    "hideHardwareSpecs": false,
    "memoryGiB": 768,
    "name": "ml.r5.24xlarge",
    "vcpuNum": 96
   },
   {
    "_defaultOrder": 47,
    "_isFastLaunch": false,
    "category": "Accelerated computing",
    "gpuNum": 1,
    "hideHardwareSpecs": false,
    "memoryGiB": 16,
    "name": "ml.g5.xlarge",
    "vcpuNum": 4
   },
   {
    "_defaultOrder": 48,
    "_isFastLaunch": false,
    "category": "Accelerated computing",
    "gpuNum": 1,
    "hideHardwareSpecs": false,
    "memoryGiB": 32,
    "name": "ml.g5.2xlarge",
    "vcpuNum": 8
   },
   {
    "_defaultOrder": 49,
    "_isFastLaunch": false,
    "category": "Accelerated computing",
    "gpuNum": 1,
    "hideHardwareSpecs": false,
    "memoryGiB": 64,
    "name": "ml.g5.4xlarge",
    "vcpuNum": 16
   },
   {
    "_defaultOrder": 50,
    "_isFastLaunch": false,
    "category": "Accelerated computing",
    "gpuNum": 1,
    "hideHardwareSpecs": false,
    "memoryGiB": 128,
    "name": "ml.g5.8xlarge",
    "vcpuNum": 32
   },
   {
    "_defaultOrder": 51,
    "_isFastLaunch": false,
    "category": "Accelerated computing",
    "gpuNum": 1,
    "hideHardwareSpecs": false,
    "memoryGiB": 256,
    "name": "ml.g5.16xlarge",
    "vcpuNum": 64
   },
   {
    "_defaultOrder": 52,
    "_isFastLaunch": false,
    "category": "Accelerated computing",
    "gpuNum": 4,
    "hideHardwareSpecs": false,
    "memoryGiB": 192,
    "name": "ml.g5.12xlarge",
    "vcpuNum": 48
   },
   {
    "_defaultOrder": 53,
    "_isFastLaunch": false,
    "category": "Accelerated computing",
    "gpuNum": 4,
    "hideHardwareSpecs": false,
    "memoryGiB": 384,
    "name": "ml.g5.24xlarge",
    "vcpuNum": 96
   },
   {
    "_defaultOrder": 54,
    "_isFastLaunch": false,
    "category": "Accelerated computing",
    "gpuNum": 8,
    "hideHardwareSpecs": false,
    "memoryGiB": 768,
    "name": "ml.g5.48xlarge",
    "vcpuNum": 192
   },
   {
    "_defaultOrder": 55,
    "_isFastLaunch": false,
    "category": "Accelerated computing",
    "gpuNum": 8,
    "hideHardwareSpecs": false,
    "memoryGiB": 1152,
    "name": "ml.p4d.24xlarge",
    "vcpuNum": 96
   },
   {
    "_defaultOrder": 56,
    "_isFastLaunch": false,
    "category": "Accelerated computing",
    "gpuNum": 8,
    "hideHardwareSpecs": false,
    "memoryGiB": 1152,
    "name": "ml.p4de.24xlarge",
    "vcpuNum": 96
   }
  ],
  "instance_type": "ml.m5.large",
  "kernelspec": {
   "display_name": "Python 3 (Data Science 3.0)",
   "language": "python",
   "name": "python3__SAGEMAKER_INTERNAL__arn:aws:sagemaker:ap-northeast-2:806072073708:image/sagemaker-data-science-310-v1"
  },
  "language_info": {
   "codemirror_mode": {
    "name": "ipython",
    "version": 3
   },
   "file_extension": ".py",
   "mimetype": "text/x-python",
   "name": "python",
   "nbconvert_exporter": "python",
   "pygments_lexer": "ipython3",
   "version": "3.10.6"
  },
  "toc-showcode": false
 },
 "nbformat": 4,
 "nbformat_minor": 5
}