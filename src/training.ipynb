{
 "cells": [
  {
   "cell_type": "code",
   "execution_count": 2,
   "id": "71055824-ca96-4d53-a4e3-767f0bc5fe3d",
   "metadata": {
    "tags": []
   },
   "outputs": [],
   "source": [
    "# !pip install torch\n",
    "# !pip install deepctr_torch"
   ]
  },
  {
   "cell_type": "code",
   "execution_count": 3,
   "id": "ff3930c5-2ecc-4c80-9a83-b4e3dac37160",
   "metadata": {
    "tags": []
   },
   "outputs": [],
   "source": [
    "import os\n",
    "os.chdir(\"/root/sli-product-recommendation\")\n",
    "\n",
    "import random\n",
    "\n",
    "import pandas as pd\n",
    "import warnings\n",
    "warnings.filterwarnings('ignore')"
   ]
  },
  {
   "cell_type": "code",
   "execution_count": 4,
   "id": "406fd6c0-60a1-4e60-b602-bec6c3047931",
   "metadata": {
    "tags": []
   },
   "outputs": [],
   "source": [
    "# load\n",
    "dev_reference_date = '202305'\n",
    "data_condition = f'delvariable_{dev_reference_date}'\n",
    "raw_dataset_name = f'data_{data_condition}'\n",
    "raw_dataset_path = f'input/{raw_dataset_name}.csv'\n",
    "input_data = pd.read_csv(raw_dataset_path)\n",
    "oot_data = pd.read_csv(raw_dataset_path.replace('202305','202308'))"
   ]
  },
  {
   "cell_type": "code",
   "execution_count": 5,
   "id": "606a55b3-ece9-4c56-af0a-57a317f48367",
   "metadata": {},
   "outputs": [
    {
     "data": {
      "text/plain": [
       "'model_delvariable_202305_small'"
      ]
     },
     "execution_count": 5,
     "metadata": {},
     "output_type": "execute_result"
    }
   ],
   "source": [
    "# save\n",
    "model_name = f\"model_{data_condition}_small\"\n",
    "model_name"
   ]
  },
  {
   "cell_type": "code",
   "execution_count": 6,
   "id": "c38889e9-57e9-40c2-b2ed-0314d11ffbaf",
   "metadata": {
    "tags": []
   },
   "outputs": [],
   "source": [
    "seed = 42 \n",
    "random.seed(seed)"
   ]
  },
  {
   "cell_type": "code",
   "execution_count": 7,
   "id": "4c495056-995e-4b01-9889-e96116d65708",
   "metadata": {
    "tags": []
   },
   "outputs": [
    {
     "name": "stdout",
     "output_type": "stream",
     "text": [
      "Dataset name:  data_delvariable_202305\n"
     ]
    }
   ],
   "source": [
    "from utils.read_config import readDataConfig\n",
    "data_config = readDataConfig(input_name=raw_dataset_name)\n",
    "data_config.info\n",
    "\n",
    "target = data_config.target\n",
    "features = data_config.features"
   ]
  },
  {
   "cell_type": "code",
   "execution_count": 8,
   "id": "6ac72eda-3631-4336-9ebd-4ccb88f3f234",
   "metadata": {
    "tags": []
   },
   "outputs": [
    {
     "data": {
      "text/plain": [
       "dict_keys(['user_numeric', 'f_fire_contract', 'product_describe', 'product_yn', 'product_month', 'product_month_category', 'user_category', 'product_latest', 'has_item', 'target_category'])"
      ]
     },
     "execution_count": 8,
     "metadata": {},
     "output_type": "execute_result"
    }
   ],
   "source": [
    "data_config.features.keys()"
   ]
  },
  {
   "cell_type": "code",
   "execution_count": 43,
   "id": "0ae9e9fb-2809-40c9-924a-b3651786a036",
   "metadata": {
    "tags": []
   },
   "outputs": [],
   "source": [
    "from deepctr_torch.inputs import SparseFeat, DenseFeat, get_feature_names\n",
    "\n",
    "fixlen_feature_columns = []\n",
    "fixlen_feature_columns += [DenseFeat(feat, 1) for feat in features['user_numeric']]\n",
    "# fixlen_feature_columns += [DenseFeat(feat, 1) for feat in features['has_item']]\n",
    "\n",
    "# fixlen_feature_columns += [DenseFeat(feat, 1) for feat in features['product_describe']]\n",
    "# fixlen_feature_columns += [DenseFeat(feat, 1) for feat in features['product_month']]\n",
    "# fixlen_feature_columns += [DenseFeat(feat, 1) for feat in features['f_fire_contract']]\n",
    "\n",
    "# fixlen_feature_columns += [SparseFeat(feat, vocabulary_size=2, embedding_dim=4, group_name='product_yn') for feat in features['product_yn']] \n",
    "# fixlen_feature_columns += [SparseFeat(feat, vocabulary_size=2, embedding_dim=4, group_name='product_month') for feat in features['product_month']] \n",
    "fixlen_feature_columns += [SparseFeat(feat, vocabulary_size=input_data[feat].max() + 1, embedding_dim=8, group_name='user_category') for feat in features['user_category']]\n",
    "# fixlen_feature_columns += [SparseFeat(feat, vocabulary_size=len(set(input_data[feat]))+1, embedding_dim=8, group_name='user_category') for feat in features['product_month_category']] \n",
    "fixlen_feature_columns += [SparseFeat(feat, vocabulary_size=len(set(input_data[feat]))+1, embedding_dim=8, group_name='product_latest') for feat in features['product_latest']] \n",
    "# fixlen_feature_columns += [SparseFeat(feat, vocabulary_size=2, embedding_dim=8, group_name='has_item') for feat in features['has_item']] \n",
    "fixlen_feature_columns += [SparseFeat(feat, vocabulary_size=len(set(input_data[feat]))+1, embedding_dim=8, group_name='target_category') for feat in features['target_category']] \n",
    "feature_names = get_feature_names(fixlen_feature_columns)\n",
    "# fixlen_feature_columns"
   ]
  },
  {
   "cell_type": "code",
   "execution_count": 44,
   "id": "1399fc42-c799-4346-9fdd-49255c6508c6",
   "metadata": {
    "tags": []
   },
   "outputs": [],
   "source": [
    "from sklearn.model_selection import GroupShuffleSplit\n",
    "group_splitter = GroupShuffleSplit(n_splits=1, test_size=0.2, random_state=seed)\n",
    "\n",
    "for train_index, test_index in group_splitter.split(input_data[feature_names], groups=input_data['ID']):\n",
    "    train = input_data.iloc[train_index].sample(frac=1, random_state=42)\n",
    "    test = input_data.iloc[test_index].sample(frac=1, random_state=42)\n",
    "    \n",
    "assert len(set(train.ID)-set(test.ID)) == len(set(train.ID))"
   ]
  },
  {
   "cell_type": "code",
   "execution_count": 45,
   "id": "b8c8a6c7-cf6d-4a04-9000-3f37ac324a97",
   "metadata": {
    "tags": []
   },
   "outputs": [],
   "source": [
    "train_model_input = {name: train[name] for name in feature_names}\n",
    "test_model_input = {name: test[name] for name in feature_names}\n",
    "oot_model_input = {name: oot_data[name] for name in feature_names}"
   ]
  },
  {
   "cell_type": "code",
   "execution_count": 46,
   "id": "516a4744-3eef-4944-ac28-6657364c33be",
   "metadata": {
    "tags": []
   },
   "outputs": [],
   "source": [
    "input_dataset = {'train':train, 'test':test}"
   ]
  },
  {
   "cell_type": "markdown",
   "id": "81a41d31-aefa-4ad5-afa8-f0d6d7e6e012",
   "metadata": {},
   "source": [
    "# Modeling"
   ]
  },
  {
   "cell_type": "code",
   "execution_count": 47,
   "id": "efb725ca-b882-4516-8f9d-968ea1c823ea",
   "metadata": {
    "tags": []
   },
   "outputs": [],
   "source": [
    "import torch\n",
    "from sklearn.metrics import log_loss, roc_auc_score\n",
    "from deepctr_torch.models import DeepFM"
   ]
  },
  {
   "cell_type": "code",
   "execution_count": 48,
   "id": "2b041c76-16da-4c18-9e03-b46a0508aeaf",
   "metadata": {
    "tags": []
   },
   "outputs": [
    {
     "name": "stdout",
     "output_type": "stream",
     "text": [
      "cpu\n",
      "Train on 67442 samples, validate on 16861 samples, 527 steps per epoch\n",
      "Epoch 1/45\n",
      "7s - loss:  0.6308 - binary_crossentropy:  0.6308 - auc:  0.6881 - val_binary_crossentropy:  0.6273 - val_auc:  0.6931\n",
      "Epoch 2/45\n",
      "7s - loss:  0.6210 - binary_crossentropy:  0.6210 - auc:  0.7052 - val_binary_crossentropy:  0.6263 - val_auc:  0.6950\n",
      "Epoch 3/45\n",
      "7s - loss:  0.6186 - binary_crossentropy:  0.6187 - auc:  0.7084 - val_binary_crossentropy:  0.6256 - val_auc:  0.6963\n",
      "Epoch 4/45\n",
      "7s - loss:  0.6170 - binary_crossentropy:  0.6170 - auc:  0.7109 - val_binary_crossentropy:  0.6250 - val_auc:  0.6976\n",
      "Epoch 5/45\n",
      "7s - loss:  0.6158 - binary_crossentropy:  0.6158 - auc:  0.7127 - val_binary_crossentropy:  0.6247 - val_auc:  0.6987\n",
      "Epoch 6/45\n",
      "7s - loss:  0.6148 - binary_crossentropy:  0.6148 - auc:  0.7147 - val_binary_crossentropy:  0.6252 - val_auc:  0.6988\n",
      "Epoch 7/45\n",
      "7s - loss:  0.6137 - binary_crossentropy:  0.6137 - auc:  0.7161 - val_binary_crossentropy:  0.6236 - val_auc:  0.7007\n",
      "Epoch 8/45\n",
      "7s - loss:  0.6127 - binary_crossentropy:  0.6127 - auc:  0.7181 - val_binary_crossentropy:  0.6235 - val_auc:  0.7015\n",
      "Epoch 9/45\n",
      "7s - loss:  0.6116 - binary_crossentropy:  0.6116 - auc:  0.7200 - val_binary_crossentropy:  0.6225 - val_auc:  0.7030\n",
      "Epoch 10/45\n",
      "7s - loss:  0.6103 - binary_crossentropy:  0.6103 - auc:  0.7217 - val_binary_crossentropy:  0.6221 - val_auc:  0.7044\n",
      "Epoch 11/45\n",
      "7s - loss:  0.6089 - binary_crossentropy:  0.6089 - auc:  0.7237 - val_binary_crossentropy:  0.6214 - val_auc:  0.7057\n",
      "Epoch 12/45\n",
      "7s - loss:  0.6075 - binary_crossentropy:  0.6075 - auc:  0.7260 - val_binary_crossentropy:  0.6203 - val_auc:  0.7074\n",
      "Epoch 13/45\n",
      "7s - loss:  0.6060 - binary_crossentropy:  0.6060 - auc:  0.7285 - val_binary_crossentropy:  0.6192 - val_auc:  0.7091\n",
      "Epoch 14/45\n",
      "7s - loss:  0.6044 - binary_crossentropy:  0.6044 - auc:  0.7305 - val_binary_crossentropy:  0.6182 - val_auc:  0.7105\n",
      "Epoch 15/45\n",
      "7s - loss:  0.6025 - binary_crossentropy:  0.6025 - auc:  0.7334 - val_binary_crossentropy:  0.6170 - val_auc:  0.7126\n",
      "Epoch 16/45\n",
      "7s - loss:  0.6005 - binary_crossentropy:  0.6004 - auc:  0.7358 - val_binary_crossentropy:  0.6152 - val_auc:  0.7148\n",
      "Epoch 17/45\n",
      "7s - loss:  0.5986 - binary_crossentropy:  0.5985 - auc:  0.7382 - val_binary_crossentropy:  0.6146 - val_auc:  0.7163\n",
      "Epoch 18/45\n",
      "7s - loss:  0.5967 - binary_crossentropy:  0.5967 - auc:  0.7411 - val_binary_crossentropy:  0.6135 - val_auc:  0.7177\n",
      "Epoch 19/45\n",
      "7s - loss:  0.5950 - binary_crossentropy:  0.5950 - auc:  0.7427 - val_binary_crossentropy:  0.6125 - val_auc:  0.7192\n",
      "Epoch 20/45\n",
      "7s - loss:  0.5935 - binary_crossentropy:  0.5935 - auc:  0.7450 - val_binary_crossentropy:  0.6120 - val_auc:  0.7204\n",
      "Epoch 21/45\n",
      "7s - loss:  0.5921 - binary_crossentropy:  0.5921 - auc:  0.7460 - val_binary_crossentropy:  0.6109 - val_auc:  0.7212\n",
      "Epoch 22/45\n",
      "7s - loss:  0.5907 - binary_crossentropy:  0.5907 - auc:  0.7472 - val_binary_crossentropy:  0.6113 - val_auc:  0.7214\n",
      "Epoch 23/45\n",
      "7s - loss:  0.5896 - binary_crossentropy:  0.5896 - auc:  0.7489 - val_binary_crossentropy:  0.6102 - val_auc:  0.7217\n",
      "Epoch 24/45\n",
      "7s - loss:  0.5887 - binary_crossentropy:  0.5887 - auc:  0.7501 - val_binary_crossentropy:  0.6105 - val_auc:  0.7227\n",
      "Epoch 25/45\n",
      "7s - loss:  0.5878 - binary_crossentropy:  0.5878 - auc:  0.7512 - val_binary_crossentropy:  0.6098 - val_auc:  0.7224\n",
      "Epoch 26/45\n",
      "7s - loss:  0.5870 - binary_crossentropy:  0.5870 - auc:  0.7523 - val_binary_crossentropy:  0.6098 - val_auc:  0.7226\n",
      "Epoch 27/45\n",
      "7s - loss:  0.5862 - binary_crossentropy:  0.5862 - auc:  0.7531 - val_binary_crossentropy:  0.6101 - val_auc:  0.7231\n",
      "Epoch 28/45\n",
      "7s - loss:  0.5855 - binary_crossentropy:  0.5855 - auc:  0.7541 - val_binary_crossentropy:  0.6100 - val_auc:  0.7234\n",
      "Epoch 29/45\n",
      "7s - loss:  0.5848 - binary_crossentropy:  0.5848 - auc:  0.7544 - val_binary_crossentropy:  0.6094 - val_auc:  0.7235\n",
      "Epoch 30/45\n",
      "7s - loss:  0.5840 - binary_crossentropy:  0.5840 - auc:  0.7554 - val_binary_crossentropy:  0.6094 - val_auc:  0.7233\n",
      "Epoch 31/45\n",
      "7s - loss:  0.5834 - binary_crossentropy:  0.5834 - auc:  0.7562 - val_binary_crossentropy:  0.6101 - val_auc:  0.7229\n",
      "Epoch 32/45\n",
      "7s - loss:  0.5828 - binary_crossentropy:  0.5828 - auc:  0.7567 - val_binary_crossentropy:  0.6100 - val_auc:  0.7232\n",
      "Epoch 33/45\n",
      "7s - loss:  0.5821 - binary_crossentropy:  0.5821 - auc:  0.7577 - val_binary_crossentropy:  0.6094 - val_auc:  0.7236\n",
      "Epoch 34/45\n",
      "7s - loss:  0.5816 - binary_crossentropy:  0.5816 - auc:  0.7582 - val_binary_crossentropy:  0.6103 - val_auc:  0.7228\n",
      "Epoch 35/45\n",
      "7s - loss:  0.5810 - binary_crossentropy:  0.5810 - auc:  0.7585 - val_binary_crossentropy:  0.6104 - val_auc:  0.7235\n",
      "Epoch 36/45\n",
      "7s - loss:  0.5805 - binary_crossentropy:  0.5805 - auc:  0.7593 - val_binary_crossentropy:  0.6102 - val_auc:  0.7231\n",
      "Epoch 37/45\n",
      "7s - loss:  0.5799 - binary_crossentropy:  0.5799 - auc:  0.7604 - val_binary_crossentropy:  0.6100 - val_auc:  0.7234\n",
      "Epoch 38/45\n",
      "7s - loss:  0.5793 - binary_crossentropy:  0.5793 - auc:  0.7609 - val_binary_crossentropy:  0.6105 - val_auc:  0.7230\n",
      "Epoch 39/45\n",
      "7s - loss:  0.5788 - binary_crossentropy:  0.5788 - auc:  0.7612 - val_binary_crossentropy:  0.6104 - val_auc:  0.7225\n",
      "Epoch 40/45\n",
      "7s - loss:  0.5783 - binary_crossentropy:  0.5783 - auc:  0.7616 - val_binary_crossentropy:  0.6112 - val_auc:  0.7222\n",
      "Epoch 41/45\n",
      "7s - loss:  0.5778 - binary_crossentropy:  0.5778 - auc:  0.7622 - val_binary_crossentropy:  0.6112 - val_auc:  0.7226\n",
      "Epoch 42/45\n",
      "7s - loss:  0.5772 - binary_crossentropy:  0.5772 - auc:  0.7629 - val_binary_crossentropy:  0.6114 - val_auc:  0.7224\n",
      "Epoch 43/45\n",
      "7s - loss:  0.5768 - binary_crossentropy:  0.5768 - auc:  0.7639 - val_binary_crossentropy:  0.6119 - val_auc:  0.7223\n",
      "Epoch 44/45\n",
      "7s - loss:  0.5762 - binary_crossentropy:  0.5762 - auc:  0.7645 - val_binary_crossentropy:  0.6110 - val_auc:  0.7220\n",
      "Epoch 45/45\n",
      "7s - loss:  0.5758 - binary_crossentropy:  0.5758 - auc:  0.7646 - val_binary_crossentropy:  0.6117 - val_auc:  0.7224\n",
      "\n",
      "test LogLoss 0.6079\n",
      "test AUC 0.7274\n"
     ]
    }
   ],
   "source": [
    "device = 'cuda:0' if torch.cuda.is_available() else 'cpu'\n",
    "model_params = {\"task\":'binary',\n",
    "                 \"l2_reg_embedding\":1e-5, \n",
    "                 \"device\":device}\n",
    "\n",
    "model = DeepFM(linear_feature_columns=fixlen_feature_columns, dnn_feature_columns=fixlen_feature_columns,\n",
    "               **model_params)\n",
    "\n",
    "compile_params = {'optimizer':\"adagrad\", \n",
    "                  'loss':\"binary_crossentropy\",\n",
    "                  'metrics':[\"binary_crossentropy\", \"auc\"]\n",
    "                 }\n",
    "model.compile(**compile_params)\n",
    "\n",
    "\n",
    "fit_params = {\"batch_size\":128,\n",
    "              \"epochs\":45,\n",
    "              \"verbose\":2,\n",
    "              \"validation_split\":0.2}\n",
    "history = model.fit(train_model_input, train[target].values, **fit_params)\n",
    "\n",
    "pred_ans = model.predict(test_model_input)\n",
    "print(\"\")\n",
    "print(\"test LogLoss\", round(log_loss(test[target].values, pred_ans), 4))\n",
    "print(\"test AUC\", round(roc_auc_score(test[target].values, pred_ans), 4))"
   ]
  },
  {
   "cell_type": "markdown",
   "id": "4f882d9f-cfc8-4297-9ac9-0e683102dec8",
   "metadata": {
    "tags": []
   },
   "source": [
    "# SAVE"
   ]
  },
  {
   "cell_type": "code",
   "execution_count": 15,
   "id": "46d0c992-ca3d-4d62-acdd-955d89e52605",
   "metadata": {
    "tags": []
   },
   "outputs": [],
   "source": [
    "model_path = f\"models/{model_name}.pt\"\n",
    "torch.save(model, model_path)"
   ]
  },
  {
   "cell_type": "code",
   "execution_count": 16,
   "id": "94089e91-132a-4a39-931f-fbaa15a26c0a",
   "metadata": {},
   "outputs": [],
   "source": [
    "import pickle\n",
    "dataset_path = f'input/{model_name}_dataset.pkl'\n",
    "with open(dataset_path, 'wb') as f:\n",
    "    pickle.dump(input_dataset, f)"
   ]
  },
  {
   "cell_type": "code",
   "execution_count": 17,
   "id": "98e45949-1343-4065-9baa-4b2c9b218c24",
   "metadata": {
    "tags": []
   },
   "outputs": [],
   "source": [
    "import json\n",
    "model_config_contants = {}\n",
    "model_config_contants['model_name'] = model_name\n",
    "model_config_contants['model_path'] = model_path\n",
    "model_config_contants['random_seed'] = seed\n",
    "\n",
    "# parameters\n",
    "model_config_contants[\"model_params\"] = model_params\n",
    "model_config_contants['compile_params'] = compile_params\n",
    "model_config_contants[\"fit_params\"] = fit_params\n",
    "\n",
    "# raw dataset\n",
    "model_config_contants['rawdata'] = {'raw_dataset_path':raw_dataset_path,\n",
    "                        'raw_dataset_name':raw_dataset_name}\n",
    "# dataset\n",
    "model_config_contants['data'] = {'data_path':dataset_path,\n",
    "                        'target_label':target,\n",
    "                        'num_of_features':len(feature_names),\n",
    "                        'num_of_trainset':len(train),\n",
    "                        'num_of_testset':len(test),\n",
    "                        \n",
    "                        'train_ids':list(set(train.ID)),\n",
    "                        'test_ids':list(set(test.ID))}\n",
    "\n",
    "model_config_contants['features'] = {'feature_names':feature_names,\n",
    "                            'features':fixlen_feature_columns}\n",
    "\n",
    "with open(f'models/{model_name}_config.json', 'w') as f:\n",
    "    json.dump(model_config_contants, f)"
   ]
  },
  {
   "cell_type": "markdown",
   "id": "3f8c26dd-d8d6-4944-8ef5-4ff3c3514096",
   "metadata": {
    "tags": []
   },
   "source": [
    "# ADD CLF"
   ]
  },
  {
   "cell_type": "code",
   "execution_count": 18,
   "id": "0758c11f-be3a-465a-803b-0eb786d84215",
   "metadata": {
    "tags": []
   },
   "outputs": [
    {
     "name": "stdout",
     "output_type": "stream",
     "text": [
      "Model name:  model_delvariable_202305_small\n",
      "Dataset name:  data_delvariable_202305\n"
     ]
    }
   ],
   "source": [
    "from utils import *\n",
    "model_result = modelResult(model_name)\n",
    "model_config = readModelConfig(model_name=model_name)\n",
    "data_config = readDataConfig(input_name=model_config.get_raw_dataset_name)"
   ]
  },
  {
   "cell_type": "code",
   "execution_count": 19,
   "id": "76aed82f-dedc-4ada-b72e-b6e53c7206fc",
   "metadata": {
    "tags": []
   },
   "outputs": [
    {
     "name": "stdout",
     "output_type": "stream",
     "text": [
      "Num of Testset ids: 31942\n",
      "Accuracy: 58.3%\n",
      "\n",
      "data/OLD_202305.csv\n",
      "Accuracy OLD: 48.0%\n"
     ]
    },
    {
     "data": {
      "text/plain": [
       "7755"
      ]
     },
     "execution_count": 19,
     "metadata": {},
     "output_type": "execute_result"
    }
   ],
   "source": [
    "trainset = model_result.read_trainset()\n",
    "df_accuracy, accuracy, accuracy_old = model_result.get_accuracy(data=trainset)\n",
    "clf_ids = list(df_accuracy[(df_accuracy.pred_item!='38.�ǰ�')&(df_accuracy.pred_item!='11.�Ϲ�����')].index)\n",
    "len(clf_ids)"
   ]
  },
  {
   "cell_type": "code",
   "execution_count": 20,
   "id": "9b7571e9-ca2e-4d2b-b108-6ee75769f8d7",
   "metadata": {
    "tags": []
   },
   "outputs": [],
   "source": [
    "from sklearn.multioutput import ClassifierChain\n",
    "from sklearn.model_selection import train_test_split, GridSearchCV\n",
    "from sklearn.metrics import accuracy_score, classification_report, make_scorer, f1_score, precision_score"
   ]
  },
  {
   "cell_type": "code",
   "execution_count": 21,
   "id": "28ebfb43-0063-40d8-bf0a-75f6a2bee2b4",
   "metadata": {
    "tags": []
   },
   "outputs": [],
   "source": [
    "df_for_clf_raw = trainset[trainset.ID.isin(clf_ids) & ~trainset.target_category.isin([1,2])]\n",
    "assert df_for_clf_raw.duplicated().sum() == 0"
   ]
  },
  {
   "cell_type": "code",
   "execution_count": 22,
   "id": "9f317998-e73e-4666-876c-5ea245957b93",
   "metadata": {},
   "outputs": [],
   "source": [
    "# make X \n",
    "clf_cols = list(filter(lambda x : (x[0] not in ['S','C','F']) & ('yn' not in x) & (x[-4:] != '_cat') & (x!='has_item'), df_for_clf_raw.columns))\n",
    "df_for_clf = df_for_clf_raw[clf_cols]"
   ]
  },
  {
   "cell_type": "code",
   "execution_count": 23,
   "id": "fbdf6a52-a617-4b18-9820-d77075a5f859",
   "metadata": {
    "tags": []
   },
   "outputs": [],
   "source": [
    "# data for chain\n",
    "X_chain, y_chain = make_chain_input(df_for_clf)\n",
    "chain_x_train, chain_x_test, chain_y_train, chain_y_test = train_test_split(X_chain, y_chain, test_size=0.2, random_state=seed)\n",
    "\n",
    "# data fro base\n",
    "X_base, y_base = make_base_input(df_for_clf)"
   ]
  },
  {
   "cell_type": "code",
   "execution_count": 24,
   "id": "6b65c34d-10cc-4d11-b176-1de0d937d070",
   "metadata": {
    "tags": []
   },
   "outputs": [
    {
     "name": "stdout",
     "output_type": "stream",
     "text": [
      "{'base_estimator__colsample_bytree': 0.65, 'base_estimator__learning_rate': 0.1, 'base_estimator__n_estimators': 64, 'base_estimator__num_leaves': 5}\n",
      "\n",
      "Accuracy only CLF: 0.3302\n"
     ]
    },
    {
     "data": {
      "text/plain": [
       "['models/model_delvariable_202305_small_lgb_chain.pkl']"
      ]
     },
     "execution_count": 24,
     "metadata": {},
     "output_type": "execute_result"
    }
   ],
   "source": [
    "from lightgbm import LGBMClassifier\n",
    "\n",
    "lgb_classifier_chain = ClassifierChain(LGBMClassifier(random_state=seed, verbose=0))\n",
    "\n",
    "lgb_params = {'base_estimator__learning_rate':[0.1],\n",
    "              'base_estimator__n_estimators':[64, 32],\n",
    "              'base_estimator__num_leaves':[4, 5],\n",
    "              'base_estimator__colsample_bytree':[0.65, 0.75, 0.9],\n",
    "              # 'subsample':[0.5],\n",
    "             }\n",
    "scoring = {'accuracy':make_scorer(accuracy_score),\n",
    "           'f1_score':make_scorer(f1_score, average='weighted')}\n",
    "grid_search = GridSearchCV(estimator=lgb_classifier_chain, param_grid=lgb_params, scoring=scoring, refit='f1_score', cv=3)\n",
    "grid_result = grid_search.fit(chain_x_train, chain_y_train)\n",
    "print(grid_result.best_params_)\n",
    "lgb_bst = grid_result.best_estimator_\n",
    "y_proba = lgb_bst.predict_proba(chain_x_test)\n",
    "\n",
    "lgb_chain_accuracy = get_clf_pred(chain_y_test, y_proba)\n",
    "\n",
    "# print(classification_report(y_test, y_pred_class))\n",
    "clf_model_path = f\"models/{model_name}_lgb_chain.pkl\"\n",
    "joblib.dump(lgb_bst, clf_model_path)"
   ]
  },
  {
   "cell_type": "code",
   "execution_count": 25,
   "id": "894ea587-a7f6-4d97-9d7b-9b1f33a29362",
   "metadata": {
    "tags": []
   },
   "outputs": [],
   "source": [
    "# binary = get_clf_pred(chain_y_test, y_proba, output='binary')\n",
    "# accuracy_score(chain_y_test, binary, sample_weight='weighted')\n",
    "# rep = classification_report(chain_y_test, binary)\n",
    "# print(rep)"
   ]
  },
  {
   "cell_type": "code",
   "execution_count": 26,
   "id": "45214566-4526-4347-b991-f06ea5c05eec",
   "metadata": {
    "tags": []
   },
   "outputs": [
    {
     "name": "stdout",
     "output_type": "stream",
     "text": [
      "\n",
      "Accuracy only CLF: 0.3302\n"
     ]
    },
    {
     "data": {
      "text/html": [
       "<div>\n",
       "<style scoped>\n",
       "    .dataframe tbody tr th:only-of-type {\n",
       "        vertical-align: middle;\n",
       "    }\n",
       "\n",
       "    .dataframe tbody tr th {\n",
       "        vertical-align: top;\n",
       "    }\n",
       "\n",
       "    .dataframe thead th {\n",
       "        text-align: right;\n",
       "    }\n",
       "</style>\n",
       "<table border=\"1\" class=\"dataframe\">\n",
       "  <thead>\n",
       "    <tr style=\"text-align: right;\">\n",
       "      <th></th>\n",
       "      <th>true_count</th>\n",
       "      <th>pred_count</th>\n",
       "      <th>pred_true</th>\n",
       "      <th>accuracy_pred</th>\n",
       "      <th>accuracy_true</th>\n",
       "    </tr>\n",
       "  </thead>\n",
       "  <tbody>\n",
       "    <tr>\n",
       "      <th>3</th>\n",
       "      <td>263</td>\n",
       "      <td>550</td>\n",
       "      <td>244</td>\n",
       "      <td>44.4</td>\n",
       "      <td>92.8</td>\n",
       "    </tr>\n",
       "    <tr>\n",
       "      <th>4</th>\n",
       "      <td>113</td>\n",
       "      <td>90</td>\n",
       "      <td>27</td>\n",
       "      <td>30.0</td>\n",
       "      <td>23.9</td>\n",
       "    </tr>\n",
       "    <tr>\n",
       "      <th>5</th>\n",
       "      <td>81</td>\n",
       "      <td>108</td>\n",
       "      <td>20</td>\n",
       "      <td>18.5</td>\n",
       "      <td>24.7</td>\n",
       "    </tr>\n",
       "    <tr>\n",
       "      <th>6</th>\n",
       "      <td>40</td>\n",
       "      <td>7</td>\n",
       "      <td>0</td>\n",
       "      <td>0.0</td>\n",
       "      <td>0.0</td>\n",
       "    </tr>\n",
       "    <tr>\n",
       "      <th>7</th>\n",
       "      <td>80</td>\n",
       "      <td>178</td>\n",
       "      <td>45</td>\n",
       "      <td>25.3</td>\n",
       "      <td>56.2</td>\n",
       "    </tr>\n",
       "    <tr>\n",
       "      <th>8</th>\n",
       "      <td>37</td>\n",
       "      <td>28</td>\n",
       "      <td>9</td>\n",
       "      <td>32.1</td>\n",
       "      <td>24.3</td>\n",
       "    </tr>\n",
       "    <tr>\n",
       "      <th>9</th>\n",
       "      <td>3</td>\n",
       "      <td>0</td>\n",
       "      <td>0</td>\n",
       "      <td>NaN</td>\n",
       "      <td>0.0</td>\n",
       "    </tr>\n",
       "    <tr>\n",
       "      <th>10</th>\n",
       "      <td>8</td>\n",
       "      <td>2</td>\n",
       "      <td>0</td>\n",
       "      <td>0.0</td>\n",
       "      <td>0.0</td>\n",
       "    </tr>\n",
       "    <tr>\n",
       "      <th>11</th>\n",
       "      <td>7</td>\n",
       "      <td>9</td>\n",
       "      <td>2</td>\n",
       "      <td>22.2</td>\n",
       "      <td>28.6</td>\n",
       "    </tr>\n",
       "    <tr>\n",
       "      <th>12</th>\n",
       "      <td>4</td>\n",
       "      <td>0</td>\n",
       "      <td>0</td>\n",
       "      <td>NaN</td>\n",
       "      <td>0.0</td>\n",
       "    </tr>\n",
       "  </tbody>\n",
       "</table>\n",
       "</div>"
      ],
      "text/plain": [
       "    true_count  pred_count  pred_true  accuracy_pred  accuracy_true\n",
       "3          263         550        244           44.4           92.8\n",
       "4          113          90         27           30.0           23.9\n",
       "5           81         108         20           18.5           24.7\n",
       "6           40           7          0            0.0            0.0\n",
       "7           80         178         45           25.3           56.2\n",
       "8           37          28          9           32.1           24.3\n",
       "9            3           0          0            NaN            0.0\n",
       "10           8           2          0            0.0            0.0\n",
       "11           7           9          2           22.2           28.6\n",
       "12           4           0          0            NaN            0.0"
      ]
     },
     "execution_count": 26,
     "metadata": {},
     "output_type": "execute_result"
    }
   ],
   "source": [
    "clf_chain_result = get_clf_chain_result(chain_y_test, y_proba)\n",
    "clf_chain_result"
   ]
  },
  {
   "cell_type": "code",
   "execution_count": 27,
   "id": "d8a81277-a18e-449c-b14c-fb93418ff31e",
   "metadata": {
    "tags": []
   },
   "outputs": [
    {
     "name": "stdout",
     "output_type": "stream",
     "text": [
      "{'base_estimator__colsample_bytree': 0.9, 'base_estimator__learning_rate': 0.1, 'base_estimator__max_depth': 5, 'base_estimator__n_estimators': 100, 'base_estimator__subsample': 0.8}\n",
      "\n",
      "Accuracy only CLF: 0.3169\n"
     ]
    },
    {
     "data": {
      "text/plain": [
       "['models/model_delvariable_202305_small_xgb_chain.pkl']"
      ]
     },
     "execution_count": 27,
     "metadata": {},
     "output_type": "execute_result"
    }
   ],
   "source": [
    "# clf2. XGBoost\n",
    "from xgboost import XGBClassifier\n",
    "xgb_classifier_chain = ClassifierChain(XGBClassifier(random_state=seed, verbose=0))\n",
    "xgb_params = {\n",
    "    'base_estimator__learning_rate':[0.01, 0.1, 0.2],\n",
    "    'base_estimator__max_depth' : [3, 4, 5],\n",
    "    'base_estimator__n_estimators' : [50, 100, 200],\n",
    "    'base_estimator__subsample' : [0.8, 0.9, 1.0],\n",
    "    'base_estimator__colsample_bytree' : [0.8, 0.9, 1.0],\n",
    "             }\n",
    "scoring = {'accuracy':make_scorer(accuracy_score),\n",
    "           'f1_score':make_scorer(f1_score, average='weighted')}\n",
    "\n",
    "grid_search = GridSearchCV(estimator=xgb_classifier_chain, param_grid=xgb_params, scoring=scoring, refit='accuracy', cv=3)\n",
    "grid_result = grid_search.fit(chain_x_train, chain_y_train)\n",
    "print(grid_result.best_params_)\n",
    "xgb_bst = grid_result.best_estimator_\n",
    "y_proba = xgb_bst.predict_proba(chain_x_test)\n",
    "\n",
    "xgb_chain_accuracy = get_clf_pred(chain_y_test, y_proba)\n",
    "\n",
    "# save\n",
    "clf_xgb_model_path = f\"models/{model_name}_xgb_chain.pkl\"\n",
    "joblib.dump(xgb_bst, clf_xgb_model_path)"
   ]
  },
  {
   "cell_type": "code",
   "execution_count": 28,
   "id": "b097422b-e7dc-418b-9673-c6610251a7df",
   "metadata": {
    "tags": []
   },
   "outputs": [],
   "source": [
    "# y_binary = get_clf_pred(chain_y_test, y_proba, output='binary')\n",
    "# accuracy_score(chain_y_test, y_binary, normalize=True, sample_weight=)"
   ]
  },
  {
   "cell_type": "code",
   "execution_count": 29,
   "id": "1c144f71-e797-4dae-bb73-469fff5829d9",
   "metadata": {
    "tags": []
   },
   "outputs": [
    {
     "name": "stdout",
     "output_type": "stream",
     "text": [
      "{'base_estimator__depth': 6, 'base_estimator__learning_rate': 0.1}\n",
      "\n",
      "Accuracy only CLF: 0.3004\n"
     ]
    },
    {
     "data": {
      "text/plain": [
       "['models/model_delvariable_202305_small_cat_chain.pkl']"
      ]
     },
     "execution_count": 29,
     "metadata": {},
     "output_type": "execute_result"
    }
   ],
   "source": [
    "# clf3. catBoost\n",
    "from catboost import CatBoostClassifier\n",
    "cat_classifier_chain = ClassifierChain(CatBoostClassifier(random_state=seed, verbose=0))\n",
    "cat_params = {\n",
    "    'base_estimator__learning_rate':[0.1, 0.01],\n",
    "    'base_estimator__depth':[3, 5, 6],\n",
    "}\n",
    "scoring = {\n",
    "    'accuracy':make_scorer(accuracy_score),\n",
    "    'f1_score':make_scorer(f1_score, average='micro')\n",
    "}\n",
    "\n",
    "grid_search = GridSearchCV(estimator=cat_classifier_chain, param_grid=cat_params, scoring=scoring, refit='accuracy', cv=3)\n",
    "grid_result = grid_search.fit(chain_x_train, chain_y_train)\n",
    "print(grid_result.best_params_)\n",
    "cat_bst = grid_result.best_estimator_\n",
    "y_proba = cat_bst.predict_proba(chain_x_test)\n",
    "\n",
    "cat_chain_accuracy = get_clf_pred(chain_y_test, y_proba)\n",
    "\n",
    "# save\n",
    "clf_cat_model_path = f\"models/{model_name}_cat_chain.pkl\"\n",
    "joblib.dump(cat_bst, clf_cat_model_path)"
   ]
  },
  {
   "cell_type": "code",
   "execution_count": 30,
   "id": "c0d36215-f5b8-49b3-8a0a-178f996048a9",
   "metadata": {
    "tags": []
   },
   "outputs": [],
   "source": [
    "# # clf2. XGBoost\n",
    "# # !pip install xgboost\n",
    "# import xgboost as xgb\n",
    "# xgb_model = xgb.XGBClassifier(objective='multi:softmax', num_class=len(data_config.get_target_categories), random_state=seed)\n",
    "# xgb_params = {\n",
    "    \n",
    "#         'learning_rate':[0.01, 0.1, 0.2],\n",
    "#         'max_depth' : [3, 4, 5],\n",
    "#         'n_estimators' : [50, 100, 200],\n",
    "#         'subsample' : [0.8, 0.9, 1.0],\n",
    "#         'colsample_bytree' : [0.8, 0.9, 1.0],\n",
    "#         }\n",
    "# xgb_params = {'colsample_bytree': [0.8],\n",
    "#               'learning_rate': [0.01],\n",
    "#               'max_depth': [2],\n",
    "#          'n_estimators': [40, 50],\n",
    "#          'subsample': [1.0]}\n",
    "\n",
    "# grid_search = GridSearchCV(xgb_model, xgb_params, scoring='accuracy', cv=3)\n",
    "# grid_result = grid_search.fit(x_train, y_train)\n",
    "# print(grid_result.best_params_)\n",
    "# xgb_bst = grid_result.best_estimator_\n",
    "# y_pred_class = xgb_bst.predict(x_test)\n",
    "\n",
    "# xgb_base_accuracy = accuracy_score(y_test, y_pred_class)\n",
    "# print(f'XGB Accuracy: {xgb_base_accuracy:.4f}')\n",
    "# joblib.dump(xgb_bst, f\"models/{model_name}_xgb_base.pkl\")"
   ]
  },
  {
   "cell_type": "code",
   "execution_count": 31,
   "id": "4f2e2db9-ac36-4c5d-b353-188eb0e6d304",
   "metadata": {
    "tags": []
   },
   "outputs": [],
   "source": [
    "# # clf1. LightGBM\n",
    "# import joblib\n",
    "# from lightgbm import LGBMClassifier\n",
    "# x_train, x_test, y_train, y_test = train_test_split(X_base, y_base, test_size=0.2, random_state=seed)\n",
    "# lgb_model = LGBMClassifier(objective='multiclass',\n",
    "#                            num_class=len(data_config.get_target_categories),\n",
    "#                            random_state=seed,\n",
    "#                           verbose=-1)\n",
    "\n",
    "# lgb_params = {'learning_rate':[ 0.2],\n",
    "#               'n_estimators':[16, 32],\n",
    "#               'num_leaves':[4, 5],\n",
    "#               'colsample_bytree':[ 0.75],\n",
    "#               'subsample':[0.5, 0.8],\n",
    "#              }\n",
    "# grid_search = GridSearchCV(estimator=lgb_model, param_grid=lgb_params, scoring='accuracy', cv=3)\n",
    "# grid_result = grid_search.fit(x_train, y_train)\n",
    "# print(grid_result.best_params_)\n",
    "# lgb_bst = grid_result.best_estimator_\n",
    "# y_pred_class = lgb_bst.predict(x_test)\n",
    "\n",
    "# lgb_base_accuracy = accuracy_score(y_test+3, y_pred_class+3)\n",
    "# print(f'LGBM Accuracy: {lgb_base_accuracy:.4f}')\n",
    "# joblib.dump(lgb_bst, f\"models/{model_name}_lgb_base.pkl\")"
   ]
  },
  {
   "cell_type": "code",
   "execution_count": 32,
   "id": "6b6b2b26-5dab-4802-be77-c8a02f63f12e",
   "metadata": {
    "tags": []
   },
   "outputs": [],
   "source": [
    "# # clf3. catBoost\n",
    "# from catboost import CatBoostClassifier\n",
    "# cat_model = CatBoostClassifier(loss_function='MultiClass',\n",
    "#                                eval_metric='Accuracy',\n",
    "#                                verbose=0)\n",
    "# cat_params = {'learning_rate':[0.01],\n",
    "#               'depth':[3,5,6],\n",
    "#              }\n",
    "# grid_search = GridSearchCV(estimator=cat_model, param_grid=cat_params, scoring='accuracy', cv=3)\n",
    "# grid_result = grid_search.fit(x_train, y_train)\n",
    "# print(grid_result.best_params_)\n",
    "# cat_bst = grid_result.best_estimator_\n",
    "# y_pred_class = cat_bst.predict(x_test)\n",
    "\n",
    "# cat_accuracy = accuracy_score(y_test, y_pred_class)\n",
    "# print(f'LGBM Accuracy: {cat_accuracy:.4f}')\n",
    "# joblib.dump(cat_bst, f\"models/{model_name}_lgb.pkl\")"
   ]
  },
  {
   "cell_type": "code",
   "execution_count": 33,
   "id": "92207cae-7427-4528-be47-ab7dbce1a477",
   "metadata": {
    "tags": []
   },
   "outputs": [
    {
     "name": "stdout",
     "output_type": "stream",
     "text": [
      "{'lgb_chain': 0.33024691358024694, 'xgb_chain': 0.3168724279835391, 'cat_chain': 0.3004115226337449}\n"
     ]
    },
    {
     "data": {
      "text/plain": [
       "'lgb_chain'"
      ]
     },
     "execution_count": 33,
     "metadata": {},
     "output_type": "execute_result"
    }
   ],
   "source": [
    "clf_model_accuracy = {\n",
    "    # 'lgb_base':lgb_base_accuracy,\n",
    "    'lgb_chain':lgb_chain_accuracy,\n",
    "    'xgb_chain':xgb_chain_accuracy,\n",
    "    'cat_chain':cat_chain_accuracy,\n",
    "}\n",
    "\n",
    "print(clf_model_accuracy)\n",
    "max_key = max(clf_model_accuracy, key=clf_model_accuracy.get)\n",
    "max_key"
   ]
  },
  {
   "cell_type": "code",
   "execution_count": 34,
   "id": "012efc21-af1e-4046-bf27-065ada1ae6da",
   "metadata": {
    "tags": []
   },
   "outputs": [],
   "source": [
    "other_models = set(clf_model_accuracy) - set([max_key])\n",
    "model_config_contants['add_clf'] = {'clf_model_path':f\"models/{model_name}_{max_key}.pkl\",\n",
    "                                    'clf_features':clf_cols,\n",
    "                                    'other_model_path':[f\"models/{model_name}_{clf_name}.pkl\" for clf_name in other_models],\n",
    "                                    'multioutput_columns':list(clf_chain_result.index),}\n",
    "with open(f'models/{model_name}_config.json', 'w') as f:\n",
    "    json.dump(model_config_contants, f)"
   ]
  },
  {
   "cell_type": "code",
   "execution_count": null,
   "id": "b3a55cf2-b38a-4e8d-b9ff-67aa75058b40",
   "metadata": {},
   "outputs": [],
   "source": []
  }
 ],
 "metadata": {
  "availableInstances": [
   {
    "_defaultOrder": 0,
    "_isFastLaunch": true,
    "category": "General purpose",
    "gpuNum": 0,
    "hideHardwareSpecs": false,
    "memoryGiB": 4,
    "name": "ml.t3.medium",
    "vcpuNum": 2
   },
   {
    "_defaultOrder": 1,
    "_isFastLaunch": false,
    "category": "General purpose",
    "gpuNum": 0,
    "hideHardwareSpecs": false,
    "memoryGiB": 8,
    "name": "ml.t3.large",
    "vcpuNum": 2
   },
   {
    "_defaultOrder": 2,
    "_isFastLaunch": false,
    "category": "General purpose",
    "gpuNum": 0,
    "hideHardwareSpecs": false,
    "memoryGiB": 16,
    "name": "ml.t3.xlarge",
    "vcpuNum": 4
   },
   {
    "_defaultOrder": 3,
    "_isFastLaunch": false,
    "category": "General purpose",
    "gpuNum": 0,
    "hideHardwareSpecs": false,
    "memoryGiB": 32,
    "name": "ml.t3.2xlarge",
    "vcpuNum": 8
   },
   {
    "_defaultOrder": 4,
    "_isFastLaunch": true,
    "category": "General purpose",
    "gpuNum": 0,
    "hideHardwareSpecs": false,
    "memoryGiB": 8,
    "name": "ml.m5.large",
    "vcpuNum": 2
   },
   {
    "_defaultOrder": 5,
    "_isFastLaunch": false,
    "category": "General purpose",
    "gpuNum": 0,
    "hideHardwareSpecs": false,
    "memoryGiB": 16,
    "name": "ml.m5.xlarge",
    "vcpuNum": 4
   },
   {
    "_defaultOrder": 6,
    "_isFastLaunch": false,
    "category": "General purpose",
    "gpuNum": 0,
    "hideHardwareSpecs": false,
    "memoryGiB": 32,
    "name": "ml.m5.2xlarge",
    "vcpuNum": 8
   },
   {
    "_defaultOrder": 7,
    "_isFastLaunch": false,
    "category": "General purpose",
    "gpuNum": 0,
    "hideHardwareSpecs": false,
    "memoryGiB": 64,
    "name": "ml.m5.4xlarge",
    "vcpuNum": 16
   },
   {
    "_defaultOrder": 8,
    "_isFastLaunch": false,
    "category": "General purpose",
    "gpuNum": 0,
    "hideHardwareSpecs": false,
    "memoryGiB": 128,
    "name": "ml.m5.8xlarge",
    "vcpuNum": 32
   },
   {
    "_defaultOrder": 9,
    "_isFastLaunch": false,
    "category": "General purpose",
    "gpuNum": 0,
    "hideHardwareSpecs": false,
    "memoryGiB": 192,
    "name": "ml.m5.12xlarge",
    "vcpuNum": 48
   },
   {
    "_defaultOrder": 10,
    "_isFastLaunch": false,
    "category": "General purpose",
    "gpuNum": 0,
    "hideHardwareSpecs": false,
    "memoryGiB": 256,
    "name": "ml.m5.16xlarge",
    "vcpuNum": 64
   },
   {
    "_defaultOrder": 11,
    "_isFastLaunch": false,
    "category": "General purpose",
    "gpuNum": 0,
    "hideHardwareSpecs": false,
    "memoryGiB": 384,
    "name": "ml.m5.24xlarge",
    "vcpuNum": 96
   },
   {
    "_defaultOrder": 12,
    "_isFastLaunch": false,
    "category": "General purpose",
    "gpuNum": 0,
    "hideHardwareSpecs": false,
    "memoryGiB": 8,
    "name": "ml.m5d.large",
    "vcpuNum": 2
   },
   {
    "_defaultOrder": 13,
    "_isFastLaunch": false,
    "category": "General purpose",
    "gpuNum": 0,
    "hideHardwareSpecs": false,
    "memoryGiB": 16,
    "name": "ml.m5d.xlarge",
    "vcpuNum": 4
   },
   {
    "_defaultOrder": 14,
    "_isFastLaunch": false,
    "category": "General purpose",
    "gpuNum": 0,
    "hideHardwareSpecs": false,
    "memoryGiB": 32,
    "name": "ml.m5d.2xlarge",
    "vcpuNum": 8
   },
   {
    "_defaultOrder": 15,
    "_isFastLaunch": false,
    "category": "General purpose",
    "gpuNum": 0,
    "hideHardwareSpecs": false,
    "memoryGiB": 64,
    "name": "ml.m5d.4xlarge",
    "vcpuNum": 16
   },
   {
    "_defaultOrder": 16,
    "_isFastLaunch": false,
    "category": "General purpose",
    "gpuNum": 0,
    "hideHardwareSpecs": false,
    "memoryGiB": 128,
    "name": "ml.m5d.8xlarge",
    "vcpuNum": 32
   },
   {
    "_defaultOrder": 17,
    "_isFastLaunch": false,
    "category": "General purpose",
    "gpuNum": 0,
    "hideHardwareSpecs": false,
    "memoryGiB": 192,
    "name": "ml.m5d.12xlarge",
    "vcpuNum": 48
   },
   {
    "_defaultOrder": 18,
    "_isFastLaunch": false,
    "category": "General purpose",
    "gpuNum": 0,
    "hideHardwareSpecs": false,
    "memoryGiB": 256,
    "name": "ml.m5d.16xlarge",
    "vcpuNum": 64
   },
   {
    "_defaultOrder": 19,
    "_isFastLaunch": false,
    "category": "General purpose",
    "gpuNum": 0,
    "hideHardwareSpecs": false,
    "memoryGiB": 384,
    "name": "ml.m5d.24xlarge",
    "vcpuNum": 96
   },
   {
    "_defaultOrder": 20,
    "_isFastLaunch": false,
    "category": "General purpose",
    "gpuNum": 0,
    "hideHardwareSpecs": true,
    "memoryGiB": 0,
    "name": "ml.geospatial.interactive",
    "supportedImageNames": [
     "sagemaker-geospatial-v1-0"
    ],
    "vcpuNum": 0
   },
   {
    "_defaultOrder": 21,
    "_isFastLaunch": true,
    "category": "Compute optimized",
    "gpuNum": 0,
    "hideHardwareSpecs": false,
    "memoryGiB": 4,
    "name": "ml.c5.large",
    "vcpuNum": 2
   },
   {
    "_defaultOrder": 22,
    "_isFastLaunch": false,
    "category": "Compute optimized",
    "gpuNum": 0,
    "hideHardwareSpecs": false,
    "memoryGiB": 8,
    "name": "ml.c5.xlarge",
    "vcpuNum": 4
   },
   {
    "_defaultOrder": 23,
    "_isFastLaunch": false,
    "category": "Compute optimized",
    "gpuNum": 0,
    "hideHardwareSpecs": false,
    "memoryGiB": 16,
    "name": "ml.c5.2xlarge",
    "vcpuNum": 8
   },
   {
    "_defaultOrder": 24,
    "_isFastLaunch": false,
    "category": "Compute optimized",
    "gpuNum": 0,
    "hideHardwareSpecs": false,
    "memoryGiB": 32,
    "name": "ml.c5.4xlarge",
    "vcpuNum": 16
   },
   {
    "_defaultOrder": 25,
    "_isFastLaunch": false,
    "category": "Compute optimized",
    "gpuNum": 0,
    "hideHardwareSpecs": false,
    "memoryGiB": 72,
    "name": "ml.c5.9xlarge",
    "vcpuNum": 36
   },
   {
    "_defaultOrder": 26,
    "_isFastLaunch": false,
    "category": "Compute optimized",
    "gpuNum": 0,
    "hideHardwareSpecs": false,
    "memoryGiB": 96,
    "name": "ml.c5.12xlarge",
    "vcpuNum": 48
   },
   {
    "_defaultOrder": 27,
    "_isFastLaunch": false,
    "category": "Compute optimized",
    "gpuNum": 0,
    "hideHardwareSpecs": false,
    "memoryGiB": 144,
    "name": "ml.c5.18xlarge",
    "vcpuNum": 72
   },
   {
    "_defaultOrder": 28,
    "_isFastLaunch": false,
    "category": "Compute optimized",
    "gpuNum": 0,
    "hideHardwareSpecs": false,
    "memoryGiB": 192,
    "name": "ml.c5.24xlarge",
    "vcpuNum": 96
   },
   {
    "_defaultOrder": 29,
    "_isFastLaunch": true,
    "category": "Accelerated computing",
    "gpuNum": 1,
    "hideHardwareSpecs": false,
    "memoryGiB": 16,
    "name": "ml.g4dn.xlarge",
    "vcpuNum": 4
   },
   {
    "_defaultOrder": 30,
    "_isFastLaunch": false,
    "category": "Accelerated computing",
    "gpuNum": 1,
    "hideHardwareSpecs": false,
    "memoryGiB": 32,
    "name": "ml.g4dn.2xlarge",
    "vcpuNum": 8
   },
   {
    "_defaultOrder": 31,
    "_isFastLaunch": false,
    "category": "Accelerated computing",
    "gpuNum": 1,
    "hideHardwareSpecs": false,
    "memoryGiB": 64,
    "name": "ml.g4dn.4xlarge",
    "vcpuNum": 16
   },
   {
    "_defaultOrder": 32,
    "_isFastLaunch": false,
    "category": "Accelerated computing",
    "gpuNum": 1,
    "hideHardwareSpecs": false,
    "memoryGiB": 128,
    "name": "ml.g4dn.8xlarge",
    "vcpuNum": 32
   },
   {
    "_defaultOrder": 33,
    "_isFastLaunch": false,
    "category": "Accelerated computing",
    "gpuNum": 4,
    "hideHardwareSpecs": false,
    "memoryGiB": 192,
    "name": "ml.g4dn.12xlarge",
    "vcpuNum": 48
   },
   {
    "_defaultOrder": 34,
    "_isFastLaunch": false,
    "category": "Accelerated computing",
    "gpuNum": 1,
    "hideHardwareSpecs": false,
    "memoryGiB": 256,
    "name": "ml.g4dn.16xlarge",
    "vcpuNum": 64
   },
   {
    "_defaultOrder": 35,
    "_isFastLaunch": false,
    "category": "Accelerated computing",
    "gpuNum": 1,
    "hideHardwareSpecs": false,
    "memoryGiB": 61,
    "name": "ml.p3.2xlarge",
    "vcpuNum": 8
   },
   {
    "_defaultOrder": 36,
    "_isFastLaunch": false,
    "category": "Accelerated computing",
    "gpuNum": 4,
    "hideHardwareSpecs": false,
    "memoryGiB": 244,
    "name": "ml.p3.8xlarge",
    "vcpuNum": 32
   },
   {
    "_defaultOrder": 37,
    "_isFastLaunch": false,
    "category": "Accelerated computing",
    "gpuNum": 8,
    "hideHardwareSpecs": false,
    "memoryGiB": 488,
    "name": "ml.p3.16xlarge",
    "vcpuNum": 64
   },
   {
    "_defaultOrder": 38,
    "_isFastLaunch": false,
    "category": "Accelerated computing",
    "gpuNum": 8,
    "hideHardwareSpecs": false,
    "memoryGiB": 768,
    "name": "ml.p3dn.24xlarge",
    "vcpuNum": 96
   },
   {
    "_defaultOrder": 39,
    "_isFastLaunch": false,
    "category": "Memory Optimized",
    "gpuNum": 0,
    "hideHardwareSpecs": false,
    "memoryGiB": 16,
    "name": "ml.r5.large",
    "vcpuNum": 2
   },
   {
    "_defaultOrder": 40,
    "_isFastLaunch": false,
    "category": "Memory Optimized",
    "gpuNum": 0,
    "hideHardwareSpecs": false,
    "memoryGiB": 32,
    "name": "ml.r5.xlarge",
    "vcpuNum": 4
   },
   {
    "_defaultOrder": 41,
    "_isFastLaunch": false,
    "category": "Memory Optimized",
    "gpuNum": 0,
    "hideHardwareSpecs": false,
    "memoryGiB": 64,
    "name": "ml.r5.2xlarge",
    "vcpuNum": 8
   },
   {
    "_defaultOrder": 42,
    "_isFastLaunch": false,
    "category": "Memory Optimized",
    "gpuNum": 0,
    "hideHardwareSpecs": false,
    "memoryGiB": 128,
    "name": "ml.r5.4xlarge",
    "vcpuNum": 16
   },
   {
    "_defaultOrder": 43,
    "_isFastLaunch": false,
    "category": "Memory Optimized",
    "gpuNum": 0,
    "hideHardwareSpecs": false,
    "memoryGiB": 256,
    "name": "ml.r5.8xlarge",
    "vcpuNum": 32
   },
   {
    "_defaultOrder": 44,
    "_isFastLaunch": false,
    "category": "Memory Optimized",
    "gpuNum": 0,
    "hideHardwareSpecs": false,
    "memoryGiB": 384,
    "name": "ml.r5.12xlarge",
    "vcpuNum": 48
   },
   {
    "_defaultOrder": 45,
    "_isFastLaunch": false,
    "category": "Memory Optimized",
    "gpuNum": 0,
    "hideHardwareSpecs": false,
    "memoryGiB": 512,
    "name": "ml.r5.16xlarge",
    "vcpuNum": 64
   },
   {
    "_defaultOrder": 46,
    "_isFastLaunch": false,
    "category": "Memory Optimized",
    "gpuNum": 0,
    "hideHardwareSpecs": false,
    "memoryGiB": 768,
    "name": "ml.r5.24xlarge",
    "vcpuNum": 96
   },
   {
    "_defaultOrder": 47,
    "_isFastLaunch": false,
    "category": "Accelerated computing",
    "gpuNum": 1,
    "hideHardwareSpecs": false,
    "memoryGiB": 16,
    "name": "ml.g5.xlarge",
    "vcpuNum": 4
   },
   {
    "_defaultOrder": 48,
    "_isFastLaunch": false,
    "category": "Accelerated computing",
    "gpuNum": 1,
    "hideHardwareSpecs": false,
    "memoryGiB": 32,
    "name": "ml.g5.2xlarge",
    "vcpuNum": 8
   },
   {
    "_defaultOrder": 49,
    "_isFastLaunch": false,
    "category": "Accelerated computing",
    "gpuNum": 1,
    "hideHardwareSpecs": false,
    "memoryGiB": 64,
    "name": "ml.g5.4xlarge",
    "vcpuNum": 16
   },
   {
    "_defaultOrder": 50,
    "_isFastLaunch": false,
    "category": "Accelerated computing",
    "gpuNum": 1,
    "hideHardwareSpecs": false,
    "memoryGiB": 128,
    "name": "ml.g5.8xlarge",
    "vcpuNum": 32
   },
   {
    "_defaultOrder": 51,
    "_isFastLaunch": false,
    "category": "Accelerated computing",
    "gpuNum": 1,
    "hideHardwareSpecs": false,
    "memoryGiB": 256,
    "name": "ml.g5.16xlarge",
    "vcpuNum": 64
   },
   {
    "_defaultOrder": 52,
    "_isFastLaunch": false,
    "category": "Accelerated computing",
    "gpuNum": 4,
    "hideHardwareSpecs": false,
    "memoryGiB": 192,
    "name": "ml.g5.12xlarge",
    "vcpuNum": 48
   },
   {
    "_defaultOrder": 53,
    "_isFastLaunch": false,
    "category": "Accelerated computing",
    "gpuNum": 4,
    "hideHardwareSpecs": false,
    "memoryGiB": 384,
    "name": "ml.g5.24xlarge",
    "vcpuNum": 96
   },
   {
    "_defaultOrder": 54,
    "_isFastLaunch": false,
    "category": "Accelerated computing",
    "gpuNum": 8,
    "hideHardwareSpecs": false,
    "memoryGiB": 768,
    "name": "ml.g5.48xlarge",
    "vcpuNum": 192
   },
   {
    "_defaultOrder": 55,
    "_isFastLaunch": false,
    "category": "Accelerated computing",
    "gpuNum": 8,
    "hideHardwareSpecs": false,
    "memoryGiB": 1152,
    "name": "ml.p4d.24xlarge",
    "vcpuNum": 96
   },
   {
    "_defaultOrder": 56,
    "_isFastLaunch": false,
    "category": "Accelerated computing",
    "gpuNum": 8,
    "hideHardwareSpecs": false,
    "memoryGiB": 1152,
    "name": "ml.p4de.24xlarge",
    "vcpuNum": 96
   }
  ],
  "instance_type": "ml.m5.large",
  "kernelspec": {
   "display_name": "Python 3 (Data Science 3.0)",
   "language": "python",
   "name": "python3__SAGEMAKER_INTERNAL__arn:aws:sagemaker:ap-northeast-2:806072073708:image/sagemaker-data-science-310-v1"
  },
  "language_info": {
   "codemirror_mode": {
    "name": "ipython",
    "version": 3
   },
   "file_extension": ".py",
   "mimetype": "text/x-python",
   "name": "python",
   "nbconvert_exporter": "python",
   "pygments_lexer": "ipython3",
   "version": "3.10.6"
  },
  "toc-showcode": false
 },
 "nbformat": 4,
 "nbformat_minor": 5
}